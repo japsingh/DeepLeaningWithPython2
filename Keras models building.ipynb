{
 "cells": [
  {
   "cell_type": "code",
   "execution_count": 2,
   "metadata": {},
   "outputs": [],
   "source": [
    "from tensorflow import keras\n",
    "from tensorflow.keras import layers"
   ]
  },
  {
   "cell_type": "code",
   "execution_count": 3,
   "metadata": {},
   "outputs": [],
   "source": [
    "model = keras.Sequential([\n",
    "    layers.Dense(64, activation=\"relu\"),\n",
    "    layers.Dense(10, activation=\"softmax\")\n",
    "])\n"
   ]
  },
  {
   "cell_type": "code",
   "execution_count": 4,
   "metadata": {},
   "outputs": [],
   "source": [
    "model = keras.Sequential()\n",
    "model.add(layers.Dense(64, activation=\"relu\"))\n",
    "model.add(layers.Dense(10, activation=\"softmax\"))"
   ]
  },
  {
   "cell_type": "code",
   "execution_count": 5,
   "metadata": {},
   "outputs": [
    {
     "data": {
      "text/plain": [
       "[<tf.Variable 'dense_2/kernel:0' shape=(3, 64) dtype=float32, numpy=\n",
       " array([[-0.17537263,  0.01487842,  0.18846017, -0.2794713 ,  0.26486522,\n",
       "          0.1067757 ,  0.06501791, -0.03542021, -0.01735976, -0.04175016,\n",
       "          0.26663697, -0.12496503, -0.12006146, -0.14214548, -0.1529741 ,\n",
       "         -0.2920696 , -0.03916517, -0.21294233, -0.19193715,  0.2880507 ,\n",
       "         -0.17508245, -0.09455268,  0.09086272,  0.08718327,  0.09580612,\n",
       "         -0.12699735, -0.25230584,  0.21787941, -0.14187679, -0.20006362,\n",
       "          0.1721637 , -0.02219126, -0.2039935 , -0.24608926,  0.13730776,\n",
       "         -0.17207602,  0.2602594 , -0.06393678,  0.02833691, -0.29299256,\n",
       "          0.12364808,  0.292256  , -0.0762921 ,  0.15874475, -0.06229836,\n",
       "          0.21720219, -0.03783512,  0.22765201, -0.11780517, -0.14554206,\n",
       "         -0.25019246,  0.11959121, -0.29824317, -0.02435493, -0.26951462,\n",
       "         -0.14140104,  0.13551459, -0.2813691 ,  0.06245339, -0.20173286,\n",
       "          0.2757817 ,  0.21290982, -0.09746052, -0.2852002 ],\n",
       "        [ 0.29806364, -0.15781423,  0.23139876,  0.18623549, -0.2768908 ,\n",
       "         -0.2634297 , -0.03749478,  0.21325535,  0.25299817, -0.10249123,\n",
       "         -0.28888774,  0.14906704,  0.2833935 , -0.27184233,  0.22372496,\n",
       "          0.02908584,  0.29628313,  0.1007174 , -0.17794478, -0.24589235,\n",
       "         -0.00556594,  0.20217294,  0.0647082 , -0.1125094 ,  0.24672192,\n",
       "          0.17157522, -0.0762988 ,  0.02064109, -0.150737  ,  0.00767797,\n",
       "          0.22506654, -0.06322803, -0.04072517, -0.21802318, -0.12725377,\n",
       "         -0.08214857, -0.06692982, -0.16726527,  0.2506985 , -0.05679192,\n",
       "         -0.25591773, -0.08056323,  0.24348164, -0.23401856,  0.14028332,\n",
       "         -0.17632419,  0.23027366,  0.20758772, -0.28017807, -0.05928807,\n",
       "         -0.22221777, -0.00755891,  0.18593475, -0.09160653, -0.20321967,\n",
       "          0.14600217,  0.06904519,  0.24362063, -0.17842558, -0.04088828,\n",
       "          0.06138456,  0.21309793,  0.293257  , -0.07496132],\n",
       "        [-0.0120368 ,  0.09418288, -0.0974725 , -0.20703775, -0.07203858,\n",
       "         -0.01653704, -0.03203386, -0.04036644,  0.00288057,  0.05625594,\n",
       "          0.18310684, -0.17559081,  0.28492737,  0.1388951 , -0.29445982,\n",
       "         -0.1427909 , -0.05979092, -0.07928611, -0.21129513,  0.19559848,\n",
       "          0.298948  ,  0.2226432 , -0.04084161, -0.24846984,  0.21114004,\n",
       "         -0.15913053,  0.02190259, -0.08948801,  0.281137  , -0.15764664,\n",
       "          0.0208433 , -0.27633637, -0.1665271 , -0.2795056 , -0.1941472 ,\n",
       "          0.19429809, -0.28236017, -0.05755048,  0.24462444,  0.14673305,\n",
       "         -0.15094925,  0.08844292, -0.04387918,  0.05886513,  0.19510767,\n",
       "         -0.05899112,  0.15318927, -0.25739726,  0.28281456, -0.29354694,\n",
       "         -0.02852771, -0.01568037,  0.2557791 ,  0.18199259,  0.13029459,\n",
       "         -0.20823583,  0.2486844 ,  0.10050806, -0.28597763, -0.1833151 ,\n",
       "          0.04202685, -0.2676528 , -0.03877035, -0.02259788]],\n",
       "       dtype=float32)>,\n",
       " <tf.Variable 'dense_2/bias:0' shape=(64,) dtype=float32, numpy=\n",
       " array([0., 0., 0., 0., 0., 0., 0., 0., 0., 0., 0., 0., 0., 0., 0., 0., 0.,\n",
       "        0., 0., 0., 0., 0., 0., 0., 0., 0., 0., 0., 0., 0., 0., 0., 0., 0.,\n",
       "        0., 0., 0., 0., 0., 0., 0., 0., 0., 0., 0., 0., 0., 0., 0., 0., 0.,\n",
       "        0., 0., 0., 0., 0., 0., 0., 0., 0., 0., 0., 0., 0.], dtype=float32)>,\n",
       " <tf.Variable 'dense_3/kernel:0' shape=(64, 10) dtype=float32, numpy=\n",
       " array([[ 1.92325175e-01,  1.76401109e-01, -1.74737975e-01,\n",
       "         -2.56871313e-01, -2.15050370e-01, -2.81784505e-01,\n",
       "         -1.31250754e-01,  1.62920058e-01, -9.72853005e-02,\n",
       "          1.32892728e-01],\n",
       "        [-2.32604653e-01,  1.49224997e-02, -7.62660354e-02,\n",
       "          2.02886134e-01,  1.43598020e-01,  1.95222199e-01,\n",
       "          1.34862930e-01, -2.71393478e-01, -2.57352859e-01,\n",
       "          1.47418976e-02],\n",
       "        [-7.03895539e-02, -2.02725112e-01, -1.93211436e-03,\n",
       "          2.76171595e-01, -2.57139415e-01, -2.34399632e-01,\n",
       "          6.20087087e-02,  8.71089995e-02, -2.51437604e-01,\n",
       "          2.42076963e-01],\n",
       "        [ 2.65374750e-01, -1.21880233e-01, -1.41320467e-01,\n",
       "         -5.05802035e-02, -1.23860478e-01,  2.34982997e-01,\n",
       "          9.55307484e-03,  1.23725802e-01, -2.39417657e-01,\n",
       "         -2.36094490e-01],\n",
       "        [-2.64029205e-01,  1.37028456e-01, -2.07347408e-01,\n",
       "         -3.36754918e-02,  2.28406459e-01, -1.31529436e-01,\n",
       "         -3.79937738e-02, -5.98995388e-02,  1.97923988e-01,\n",
       "          1.74072176e-01],\n",
       "        [ 2.63780326e-01, -3.73418331e-02,  1.91558570e-01,\n",
       "         -4.12540138e-02,  1.30861193e-01,  4.87413108e-02,\n",
       "          1.28973901e-01, -2.50119954e-01, -1.31828696e-01,\n",
       "         -2.66642332e-01],\n",
       "        [-1.85496628e-01, -2.43684411e-01, -1.75646186e-01,\n",
       "          2.80381948e-01, -1.55235961e-01,  2.72408575e-01,\n",
       "          1.44677520e-01,  1.44803703e-01, -2.80754983e-01,\n",
       "          2.19539315e-01],\n",
       "        [ 7.70246387e-02, -4.41424251e-02,  1.06468797e-01,\n",
       "          2.84064263e-01,  2.33649999e-01,  2.02144325e-01,\n",
       "         -8.16233605e-02,  1.26067281e-01, -1.43514439e-01,\n",
       "         -7.05958009e-02],\n",
       "        [-5.79907000e-02,  3.97263169e-02, -2.33368069e-01,\n",
       "         -1.60761654e-01,  1.48058385e-01, -5.63872308e-02,\n",
       "         -3.45373452e-02,  1.64645106e-01, -1.02461368e-01,\n",
       "          2.18602717e-02],\n",
       "        [-1.43269598e-02,  6.60654306e-02, -6.18589520e-02,\n",
       "         -2.38487124e-03,  4.44608927e-02,  1.90573514e-01,\n",
       "          2.33213812e-01, -2.30375782e-01,  1.47731155e-01,\n",
       "          3.18895876e-02],\n",
       "        [-3.48688513e-02,  1.05731249e-01, -3.40883136e-02,\n",
       "         -2.25060403e-01, -2.23114580e-01,  1.27616525e-01,\n",
       "         -1.52715787e-01,  1.93517178e-01, -1.27952218e-01,\n",
       "         -2.05082417e-01],\n",
       "        [-1.50618076e-01,  2.03601569e-01,  9.74738300e-02,\n",
       "          2.71362156e-01, -1.25832528e-01,  2.13867009e-01,\n",
       "         -1.51961133e-01,  3.11971307e-02,  1.05923772e-01,\n",
       "          1.03464782e-01],\n",
       "        [ 1.69405013e-01, -7.78042674e-02,  2.16750354e-01,\n",
       "          1.52970582e-01, -2.40551412e-01,  1.77455366e-01,\n",
       "          1.08690113e-01, -2.59375960e-01, -2.80413747e-01,\n",
       "         -8.30261558e-02],\n",
       "        [-2.11263239e-01, -2.23291695e-01,  2.26168841e-01,\n",
       "          9.55963731e-02,  2.96228528e-02,  2.32544988e-01,\n",
       "          8.54944587e-02,  8.57275426e-02,  8.35188329e-02,\n",
       "         -1.59498513e-01],\n",
       "        [ 6.32500648e-03, -2.39055261e-01, -1.45078257e-01,\n",
       "          1.41794413e-01, -6.82183951e-02,  2.23772436e-01,\n",
       "         -1.37279645e-01, -2.37756819e-01, -8.73217732e-02,\n",
       "         -2.75096685e-01],\n",
       "        [ 1.81742966e-01, -8.50660950e-02, -2.49132246e-01,\n",
       "          1.20353073e-01,  1.31858289e-02, -2.01390684e-01,\n",
       "          2.31118649e-01,  8.52072239e-02,  7.45707750e-02,\n",
       "          1.80898160e-01],\n",
       "        [ 1.94957525e-01,  6.19292855e-02, -5.06037623e-02,\n",
       "         -2.25275010e-01,  2.79946953e-01,  6.49221838e-02,\n",
       "         -1.73610404e-01, -1.99759573e-01,  1.24708086e-01,\n",
       "          2.35554606e-01],\n",
       "        [-1.06312856e-01,  2.14846373e-01, -5.98241240e-02,\n",
       "         -2.15916365e-01,  8.69145691e-02,  2.20326632e-01,\n",
       "          3.95918787e-02,  1.82141960e-01, -2.79221624e-01,\n",
       "          1.71028078e-02],\n",
       "        [-2.14039385e-02, -2.44061142e-01,  2.14095384e-01,\n",
       "          1.01157427e-02,  3.62053216e-02, -2.42376268e-01,\n",
       "         -1.13710523e-01, -1.83074281e-01, -1.86872751e-01,\n",
       "         -9.43825096e-02],\n",
       "        [-1.30040362e-01, -2.70351171e-01, -2.37027138e-01,\n",
       "         -1.26822352e-01, -7.22226948e-02,  1.75537646e-01,\n",
       "          3.77882719e-02, -9.16363895e-02,  2.58317560e-01,\n",
       "         -9.39326733e-02],\n",
       "        [-1.26081139e-01,  7.48225749e-02,  2.37804383e-01,\n",
       "         -1.13928378e-01,  2.21029222e-02,  5.84774017e-02,\n",
       "         -1.46554708e-02,  1.14740938e-01,  2.84742385e-01,\n",
       "          2.58973449e-01],\n",
       "        [-1.93438232e-02, -5.58560640e-02, -2.31455013e-01,\n",
       "          1.58332855e-01,  1.34618670e-01,  1.53440624e-01,\n",
       "          2.23397017e-02, -1.03970274e-01,  2.53626138e-01,\n",
       "          1.77421272e-02],\n",
       "        [-2.03638494e-01,  1.54039204e-01,  1.44112736e-01,\n",
       "          1.37517333e-01,  9.23541188e-02,  5.68190813e-02,\n",
       "         -2.43956521e-01, -2.30543137e-01, -8.51237923e-02,\n",
       "          2.00539827e-04],\n",
       "        [ 6.99887276e-02, -1.67593539e-01, -1.01168156e-01,\n",
       "          2.54369467e-01, -1.35787770e-01,  2.50350803e-01,\n",
       "         -1.51104361e-01,  7.62038529e-02, -1.82656825e-01,\n",
       "          1.18135601e-01],\n",
       "        [-9.68321413e-02,  2.42863089e-01,  5.00537157e-02,\n",
       "          4.02741730e-02, -3.49516720e-02, -7.13166445e-02,\n",
       "          5.04972339e-02, -1.44424081e-01,  1.85470283e-01,\n",
       "          1.40861928e-01],\n",
       "        [ 2.17908233e-01, -2.03488931e-01,  7.51453340e-02,\n",
       "          9.22525525e-02,  2.47816414e-01, -5.26130050e-02,\n",
       "         -9.12867635e-02, -5.49044758e-02, -2.80834049e-01,\n",
       "          3.92717123e-02],\n",
       "        [ 2.55587399e-02,  6.56716228e-02,  3.41455638e-02,\n",
       "          2.51308233e-01,  1.29944980e-01,  1.83254063e-01,\n",
       "          1.87558085e-01,  5.87852001e-02, -1.01007998e-01,\n",
       "          6.29533231e-02],\n",
       "        [ 2.49615341e-01, -2.12545604e-01,  1.68094903e-01,\n",
       "         -3.82724404e-03,  1.65100724e-01,  2.89088488e-02,\n",
       "          2.19256550e-01,  2.86708474e-02, -2.62922347e-01,\n",
       "         -8.93510431e-02],\n",
       "        [-2.23295987e-02,  2.03722477e-01,  2.80329198e-01,\n",
       "         -5.76031953e-02, -1.74309999e-01, -8.24538469e-02,\n",
       "          2.67575651e-01, -1.18434787e-01, -1.38558879e-01,\n",
       "          5.78228235e-02],\n",
       "        [ 1.73506737e-02,  9.20847952e-02,  2.98476219e-02,\n",
       "          2.62866586e-01,  1.71074957e-01, -2.61854231e-02,\n",
       "          1.78860605e-01, -8.01854134e-02, -1.44783556e-01,\n",
       "          5.97098470e-03],\n",
       "        [ 8.76517892e-02, -6.63186610e-02,  1.15848541e-01,\n",
       "         -1.12048671e-01, -1.93478614e-01,  3.97396088e-03,\n",
       "          3.17802429e-02, -2.56097943e-01, -2.68729657e-01,\n",
       "         -1.23162583e-01],\n",
       "        [-5.94858974e-02,  2.67885178e-01, -2.48795301e-01,\n",
       "         -1.62782639e-01, -1.23646840e-01,  1.94183588e-01,\n",
       "         -1.89507037e-01,  1.41337246e-01,  1.92301899e-01,\n",
       "         -2.68909544e-01],\n",
       "        [ 1.40354335e-01,  2.59333402e-01,  1.11759007e-02,\n",
       "         -4.54932451e-04, -3.55583429e-03, -4.49269563e-02,\n",
       "         -2.06258193e-01, -2.70750582e-01, -2.13139653e-02,\n",
       "         -5.16990870e-02],\n",
       "        [-1.19852722e-01,  4.69258130e-02,  9.99134183e-02,\n",
       "         -1.96306467e-01,  6.67202771e-02, -2.29960173e-01,\n",
       "         -3.90947312e-02, -1.78948730e-01, -9.36361402e-02,\n",
       "          1.05211914e-01],\n",
       "        [ 2.11928636e-01,  1.09656125e-01, -2.20091194e-01,\n",
       "          5.49967289e-02, -2.11885452e-01,  1.87991470e-01,\n",
       "         -2.31262818e-01,  1.12669915e-01,  8.35654140e-03,\n",
       "         -1.71537995e-02],\n",
       "        [-2.62230337e-02,  1.19740695e-01,  3.02982330e-03,\n",
       "         -1.72400758e-01,  6.94476068e-02,  2.31216878e-01,\n",
       "          1.21924341e-01,  1.26871467e-03,  1.85525835e-01,\n",
       "          5.76618612e-02],\n",
       "        [-2.51145571e-01, -2.33958498e-01,  2.26500362e-01,\n",
       "          1.30381554e-01, -1.49480522e-01,  1.35725945e-01,\n",
       "          8.66759419e-02, -2.59202093e-01,  2.51960546e-01,\n",
       "         -2.39326149e-01],\n",
       "        [-2.81402349e-01,  1.38326705e-01, -1.56437665e-01,\n",
       "          8.11326504e-02, -2.14337125e-01, -3.32549214e-02,\n",
       "          2.23664552e-01, -1.16262481e-01,  1.85852557e-01,\n",
       "         -1.72110125e-01],\n",
       "        [ 2.71117479e-01, -9.57735479e-02,  4.58423793e-02,\n",
       "          1.72494441e-01,  6.03605211e-02,  1.48302317e-01,\n",
       "         -1.87704563e-02,  1.89036697e-01, -8.08707476e-02,\n",
       "         -7.16024637e-02],\n",
       "        [ 1.83344483e-02,  1.91254377e-01,  2.53402740e-01,\n",
       "          8.85830224e-02,  7.19392300e-03, -1.04944214e-01,\n",
       "          1.16251141e-01, -1.52552038e-01,  1.78842604e-01,\n",
       "          1.21770531e-01],\n",
       "        [ 3.87411714e-02, -5.95082939e-02,  9.93504226e-02,\n",
       "          2.56022125e-01,  3.60463858e-02, -1.55339494e-01,\n",
       "          4.22700346e-02, -2.18972862e-02,  1.10580772e-01,\n",
       "          2.78990418e-01],\n",
       "        [ 2.60556340e-02,  1.60742164e-01, -1.80509970e-01,\n",
       "          1.26004755e-01,  2.49418616e-03, -1.87533841e-01,\n",
       "         -3.04062963e-02,  1.10400796e-01, -2.36920699e-01,\n",
       "         -6.08938485e-02],\n",
       "        [-8.11892152e-02,  2.61684328e-01,  3.47768664e-02,\n",
       "         -2.03506351e-02,  5.49453497e-03, -1.95050523e-01,\n",
       "         -1.82510942e-01, -2.66067982e-02, -2.83300400e-01,\n",
       "         -6.63404465e-02],\n",
       "        [-1.05373263e-02, -8.40238631e-02,  7.30248690e-02,\n",
       "          2.67046422e-01, -2.90482938e-02,  1.96870029e-01,\n",
       "         -1.76352307e-01,  2.44064301e-01,  5.67953885e-02,\n",
       "         -2.24689871e-01],\n",
       "        [ 1.65508091e-02, -2.43825614e-02,  9.71108377e-02,\n",
       "         -1.31622031e-01,  4.28185165e-02, -1.60940140e-01,\n",
       "         -1.99358895e-01, -2.11844444e-01,  2.46413261e-01,\n",
       "          1.45323396e-01],\n",
       "        [ 3.06376517e-02,  2.72677869e-01,  1.73047662e-01,\n",
       "         -9.26685333e-03, -1.01341680e-01, -3.19027603e-02,\n",
       "         -2.38356277e-01,  1.91505283e-01, -1.76162690e-01,\n",
       "         -1.29648834e-01],\n",
       "        [-1.86328068e-01, -6.45086020e-02,  1.74990118e-01,\n",
       "         -8.32899064e-02,  1.26555800e-01,  7.26916194e-02,\n",
       "          2.73681313e-01,  2.52449661e-01, -1.02042362e-01,\n",
       "          1.07915998e-01],\n",
       "        [ 6.61164820e-02,  1.29376888e-01,  1.27865463e-01,\n",
       "         -4.56582457e-02,  2.08634585e-01,  1.83798790e-01,\n",
       "          1.87732816e-01, -2.36952603e-01,  1.76869422e-01,\n",
       "          1.15439653e-01],\n",
       "        [ 2.03466445e-01,  2.42964536e-01, -2.65689909e-01,\n",
       "         -4.83196378e-02,  2.29701400e-02,  2.45103270e-01,\n",
       "          1.59322947e-01, -4.32361662e-02, -1.49659276e-01,\n",
       "          2.49173969e-01],\n",
       "        [-2.12351844e-01, -7.14020580e-02,  2.28066176e-01,\n",
       "         -5.99667579e-02,  1.54889941e-01, -1.43007651e-01,\n",
       "         -6.40639961e-02,  1.79365784e-01, -3.15617621e-02,\n",
       "          1.09074324e-01],\n",
       "        [-1.21298954e-01,  2.32104331e-01, -8.79578292e-02,\n",
       "          1.44830793e-01,  2.61408061e-01, -1.20473966e-01,\n",
       "         -1.28876403e-01,  2.06479251e-01,  1.05180532e-01,\n",
       "          2.18635410e-01],\n",
       "        [-2.33209744e-01,  1.02567881e-01, -2.82835096e-01,\n",
       "          1.38192266e-01, -9.56980586e-02, -1.04785562e-02,\n",
       "          1.03614002e-01, -1.12068966e-01, -1.56612694e-02,\n",
       "          1.46723092e-02],\n",
       "        [-1.87794670e-01, -1.95970759e-01, -1.94582939e-02,\n",
       "         -2.03525320e-01, -4.95007634e-03, -1.91047162e-01,\n",
       "          1.80282891e-01,  2.49226421e-01, -2.38429606e-01,\n",
       "         -1.50478423e-01],\n",
       "        [-2.17927307e-01,  6.44815266e-02,  8.44204724e-02,\n",
       "         -1.74958199e-01, -8.10574442e-02, -2.84634292e-01,\n",
       "         -1.01313025e-01,  1.30452782e-01,  3.37719619e-02,\n",
       "          2.75558919e-01],\n",
       "        [ 1.51387721e-01,  8.10579956e-02,  5.12057245e-02,\n",
       "          2.01081365e-01, -9.54879373e-02,  1.77686065e-01,\n",
       "          4.26941514e-02, -3.12697887e-03, -1.10602021e-01,\n",
       "          5.87131083e-02],\n",
       "        [ 1.26694590e-01,  1.14134014e-01,  1.16716504e-01,\n",
       "         -2.42959023e-01, -1.57630339e-01, -2.67395496e-01,\n",
       "         -1.65452451e-01, -1.38098240e-01,  8.32639635e-02,\n",
       "         -2.15319961e-01],\n",
       "        [ 1.04546309e-01, -2.37572223e-01, -1.11074731e-01,\n",
       "         -1.98778778e-01, -2.51850307e-01,  9.81257856e-02,\n",
       "          1.75826639e-01,  1.87914431e-01,  4.60639596e-03,\n",
       "         -1.43778667e-01],\n",
       "        [-2.13570863e-01, -6.59549087e-02,  1.54917687e-01,\n",
       "          1.04549766e-01, -2.25303799e-01,  9.37985182e-02,\n",
       "          1.60878003e-02, -1.59544885e-01, -2.10817426e-01,\n",
       "          7.63575435e-02],\n",
       "        [ 2.65009671e-01,  2.19656438e-01,  2.57484317e-02,\n",
       "          8.07208419e-02,  2.38946229e-01, -1.36190489e-01,\n",
       "          2.27539629e-01, -7.81348199e-02, -1.95935667e-01,\n",
       "         -2.73921788e-01],\n",
       "        [-7.12456405e-02,  2.10246474e-01, -9.57927704e-02,\n",
       "         -2.80142128e-02, -2.08683193e-01,  4.13195193e-02,\n",
       "         -1.66955516e-01,  1.28596425e-01, -7.70747364e-02,\n",
       "         -1.09347224e-01],\n",
       "        [-1.58595309e-01,  8.40235949e-02,  1.37783051e-01,\n",
       "         -2.46848121e-01,  2.38162279e-02, -2.44439349e-01,\n",
       "          2.13593960e-01,  1.02558464e-01,  7.97099173e-02,\n",
       "         -1.67467058e-01],\n",
       "        [-8.21938366e-02,  4.15021479e-02, -5.07034212e-02,\n",
       "          3.12238038e-02,  1.17635727e-01,  1.35205090e-02,\n",
       "         -1.84511840e-01, -8.93718898e-02,  6.03126585e-02,\n",
       "          1.77799851e-01],\n",
       "        [ 2.23696917e-01, -9.78401601e-02,  1.64749920e-01,\n",
       "         -2.64850408e-01, -1.63083196e-01, -3.14327180e-02,\n",
       "         -1.95951551e-01, -1.97130978e-01, -2.65258819e-01,\n",
       "          4.05995548e-02],\n",
       "        [ 2.23458380e-01, -1.91613495e-01,  1.72348768e-01,\n",
       "         -3.68464589e-02, -1.73382223e-01, -1.96992829e-01,\n",
       "         -7.11056590e-02, -1.93190962e-01, -2.16728792e-01,\n",
       "         -2.03164428e-01]], dtype=float32)>,\n",
       " <tf.Variable 'dense_3/bias:0' shape=(10,) dtype=float32, numpy=array([0., 0., 0., 0., 0., 0., 0., 0., 0., 0.], dtype=float32)>]"
      ]
     },
     "execution_count": 5,
     "metadata": {},
     "output_type": "execute_result"
    }
   ],
   "source": [
    "model.build(input_shape=(None, 3))\n",
    "model.weights"
   ]
  },
  {
   "cell_type": "code",
   "execution_count": 6,
   "metadata": {},
   "outputs": [
    {
     "name": "stdout",
     "output_type": "stream",
     "text": [
      "Model: \"sequential_1\"\n",
      "_________________________________________________________________\n",
      " Layer (type)                Output Shape              Param #   \n",
      "=================================================================\n",
      " dense_2 (Dense)             (None, 64)                256       \n",
      "                                                                 \n",
      " dense_3 (Dense)             (None, 10)                650       \n",
      "                                                                 \n",
      "=================================================================\n",
      "Total params: 906\n",
      "Trainable params: 906\n",
      "Non-trainable params: 0\n",
      "_________________________________________________________________\n"
     ]
    }
   ],
   "source": [
    "model.summary()"
   ]
  },
  {
   "cell_type": "code",
   "execution_count": 7,
   "metadata": {},
   "outputs": [
    {
     "name": "stdout",
     "output_type": "stream",
     "text": [
      "Model: \"my_example_model\"\n",
      "_________________________________________________________________\n",
      " Layer (type)                Output Shape              Param #   \n",
      "=================================================================\n",
      " my_first_layer (Dense)      (None, 64)                256       \n",
      "                                                                 \n",
      " my_last_layer (Dense)       (None, 10)                650       \n",
      "                                                                 \n",
      "=================================================================\n",
      "Total params: 906\n",
      "Trainable params: 906\n",
      "Non-trainable params: 0\n",
      "_________________________________________________________________\n"
     ]
    }
   ],
   "source": [
    "model = keras.Sequential(name=\"my_example_model\")\n",
    "model.add(layers.Dense(64, activation=\"relu\", name=\"my_first_layer\"))\n",
    "model.add(layers.Dense(10, activation=\"softmax\", name=\"my_last_layer\"))\n",
    "model.build((None,3))\n",
    "model.summary()"
   ]
  },
  {
   "cell_type": "code",
   "execution_count": 8,
   "metadata": {},
   "outputs": [
    {
     "name": "stdout",
     "output_type": "stream",
     "text": [
      "Model: \"sequential_2\"\n",
      "_________________________________________________________________\n",
      " Layer (type)                Output Shape              Param #   \n",
      "=================================================================\n",
      " dense_4 (Dense)             (None, 64)                256       \n",
      "                                                                 \n",
      "=================================================================\n",
      "Total params: 256\n",
      "Trainable params: 256\n",
      "Non-trainable params: 0\n",
      "_________________________________________________________________\n"
     ]
    }
   ],
   "source": [
    "model=keras.Sequential()\n",
    "model.add(keras.Input(shape=(3,)))\n",
    "model.add(layers.Dense(64, activation=\"relu\"))\n",
    "model.summary()"
   ]
  },
  {
   "cell_type": "code",
   "execution_count": 9,
   "metadata": {},
   "outputs": [
    {
     "name": "stdout",
     "output_type": "stream",
     "text": [
      "Model: \"sequential_2\"\n",
      "_________________________________________________________________\n",
      " Layer (type)                Output Shape              Param #   \n",
      "=================================================================\n",
      " dense_4 (Dense)             (None, 64)                256       \n",
      "                                                                 \n",
      " dense_5 (Dense)             (None, 10)                650       \n",
      "                                                                 \n",
      "=================================================================\n",
      "Total params: 906\n",
      "Trainable params: 906\n",
      "Non-trainable params: 0\n",
      "_________________________________________________________________\n"
     ]
    }
   ],
   "source": [
    "model.add(layers.Dense(10, activation=\"softmax\"))\n",
    "model.summary()"
   ]
  },
  {
   "cell_type": "code",
   "execution_count": 10,
   "metadata": {},
   "outputs": [
    {
     "data": {
      "text/plain": [
       "TensorShape([None, 3])"
      ]
     },
     "execution_count": 10,
     "metadata": {},
     "output_type": "execute_result"
    }
   ],
   "source": [
    "inputs = keras.Input(shape=(3,), name=\"my_input\")\n",
    "inputs.shape"
   ]
  },
  {
   "cell_type": "code",
   "execution_count": 11,
   "metadata": {},
   "outputs": [
    {
     "data": {
      "text/plain": [
       "tf.float32"
      ]
     },
     "execution_count": 11,
     "metadata": {},
     "output_type": "execute_result"
    }
   ],
   "source": [
    "inputs.dtype"
   ]
  },
  {
   "cell_type": "code",
   "execution_count": 12,
   "metadata": {},
   "outputs": [],
   "source": [
    "features=layers.Dense(64, activation=\"relu\")(inputs)"
   ]
  },
  {
   "cell_type": "code",
   "execution_count": 13,
   "metadata": {},
   "outputs": [
    {
     "data": {
      "text/plain": [
       "TensorShape([None, 64])"
      ]
     },
     "execution_count": 13,
     "metadata": {},
     "output_type": "execute_result"
    }
   ],
   "source": [
    "features.shape"
   ]
  },
  {
   "cell_type": "code",
   "execution_count": 14,
   "metadata": {},
   "outputs": [],
   "source": [
    "outputs = layers.Dense(10, activation=\"softmax\")(features)"
   ]
  },
  {
   "cell_type": "code",
   "execution_count": 15,
   "metadata": {},
   "outputs": [
    {
     "data": {
      "text/plain": [
       "TensorShape([None, 10])"
      ]
     },
     "execution_count": 15,
     "metadata": {},
     "output_type": "execute_result"
    }
   ],
   "source": [
    "outputs.shape"
   ]
  },
  {
   "cell_type": "code",
   "execution_count": 16,
   "metadata": {},
   "outputs": [],
   "source": [
    "model = keras.Model(inputs = inputs, outputs = outputs)"
   ]
  },
  {
   "cell_type": "code",
   "execution_count": 17,
   "metadata": {},
   "outputs": [
    {
     "name": "stdout",
     "output_type": "stream",
     "text": [
      "Model: \"model\"\n",
      "_________________________________________________________________\n",
      " Layer (type)                Output Shape              Param #   \n",
      "=================================================================\n",
      " my_input (InputLayer)       [(None, 3)]               0         \n",
      "                                                                 \n",
      " dense_6 (Dense)             (None, 64)                256       \n",
      "                                                                 \n",
      " dense_7 (Dense)             (None, 10)                650       \n",
      "                                                                 \n",
      "=================================================================\n",
      "Total params: 906\n",
      "Trainable params: 906\n",
      "Non-trainable params: 0\n",
      "_________________________________________________________________\n"
     ]
    }
   ],
   "source": [
    "model.summary()"
   ]
  },
  {
   "cell_type": "code",
   "execution_count": 18,
   "metadata": {},
   "outputs": [],
   "source": [
    "vocabulary_size=10000\n",
    "num_tags=100\n",
    "num_departments=4\n",
    "\n",
    "title = keras.Input(shape=(vocabulary_size,), name=\"title\")\n",
    "text_body=keras.Input(shape=(vocabulary_size,), name=\"text_body\")\n",
    "tags = keras.Input(shape=(num_tags,), name=\"tags\")\n",
    "\n",
    "features=layers.Dense(64, activation=\"relu\")(layers.Concatenate()([title, text_body, tags]))"
   ]
  },
  {
   "cell_type": "code",
   "execution_count": 19,
   "metadata": {},
   "outputs": [],
   "source": [
    "priority=layers.Dense(1, activation=\"sigmoid\", name=\"priority\")(features)"
   ]
  },
  {
   "cell_type": "code",
   "execution_count": 20,
   "metadata": {},
   "outputs": [],
   "source": [
    "department = layers.Dense(num_departments, activation=\"softmax\", name=\"department\")(features)"
   ]
  },
  {
   "cell_type": "code",
   "execution_count": 21,
   "metadata": {},
   "outputs": [],
   "source": [
    "model=keras.Model(inputs=[title, text_body, tags],\n",
    "                  outputs=[priority, department])"
   ]
  },
  {
   "cell_type": "code",
   "execution_count": 22,
   "metadata": {},
   "outputs": [
    {
     "name": "stdout",
     "output_type": "stream",
     "text": [
      "Model: \"model_1\"\n",
      "__________________________________________________________________________________________________\n",
      " Layer (type)                   Output Shape         Param #     Connected to                     \n",
      "==================================================================================================\n",
      " title (InputLayer)             [(None, 10000)]      0           []                               \n",
      "                                                                                                  \n",
      " text_body (InputLayer)         [(None, 10000)]      0           []                               \n",
      "                                                                                                  \n",
      " tags (InputLayer)              [(None, 100)]        0           []                               \n",
      "                                                                                                  \n",
      " concatenate (Concatenate)      (None, 20100)        0           ['title[0][0]',                  \n",
      "                                                                  'text_body[0][0]',              \n",
      "                                                                  'tags[0][0]']                   \n",
      "                                                                                                  \n",
      " dense_8 (Dense)                (None, 64)           1286464     ['concatenate[0][0]']            \n",
      "                                                                                                  \n",
      " priority (Dense)               (None, 1)            65          ['dense_8[0][0]']                \n",
      "                                                                                                  \n",
      " department (Dense)             (None, 4)            260         ['dense_8[0][0]']                \n",
      "                                                                                                  \n",
      "==================================================================================================\n",
      "Total params: 1,286,789\n",
      "Trainable params: 1,286,789\n",
      "Non-trainable params: 0\n",
      "__________________________________________________________________________________________________\n"
     ]
    }
   ],
   "source": [
    "model.summary()"
   ]
  },
  {
   "cell_type": "code",
   "execution_count": 23,
   "metadata": {},
   "outputs": [
    {
     "name": "stdout",
     "output_type": "stream",
     "text": [
      "40/40 [==============================] - 1s 13ms/step - loss: 30.7263 - priority_loss: 0.3174 - department_loss: 30.4090 - priority_mean_absolute_error: 0.4861 - department_accuracy: 0.2750\n",
      "40/40 [==============================] - 0s 5ms/step - loss: 15.8849 - priority_loss: 0.3246 - department_loss: 15.5603 - priority_mean_absolute_error: 0.4945 - department_accuracy: 0.1000\n"
     ]
    },
    {
     "data": {
      "text/plain": [
       "[15.88489055633545,\n",
       " 0.3245505392551422,\n",
       " 15.560336112976074,\n",
       " 0.4944632947444916,\n",
       " 0.10000000149011612]"
      ]
     },
     "execution_count": 23,
     "metadata": {},
     "output_type": "execute_result"
    }
   ],
   "source": [
    "import numpy as np\n",
    "\n",
    "num_samples = 1280\n",
    "\n",
    "title_data = np.random.randint(0, 2, size=(num_samples, vocabulary_size))\n",
    "text_body_data = np.random.randint(0, 2, size=(num_samples, vocabulary_size))\n",
    "tags_data = np.random.randint(0, 2, size=(num_samples, num_tags))\n",
    "\n",
    "priority_data = np.random.random(size=(num_samples, 1))\n",
    "department_data = np.random.randint(0, 2, size=(num_samples, num_departments))\n",
    "\n",
    "model.compile(optimizer=\"rmsprop\",\n",
    "              loss=[\"mean_squared_error\", \"categorical_crossentropy\"],\n",
    "              metrics=[[\"mean_absolute_error\"], [\"accuracy\"]])\n",
    "model.fit([title_data, text_body_data, tags_data],\n",
    "          [priority_data, department_data],\n",
    "          epochs=1)\n",
    "\n",
    "model.evaluate([title_data, text_body_data, tags_data],\n",
    "               [priority_data, department_data])"
   ]
  },
  {
   "cell_type": "code",
   "execution_count": 24,
   "metadata": {},
   "outputs": [],
   "source": [
    "priority_preds, department_preds = model.predict(\n",
    "[title_data, text_body_data, tags_data])"
   ]
  },
  {
   "cell_type": "code",
   "execution_count": 25,
   "metadata": {},
   "outputs": [
    {
     "data": {
      "image/png": "[encoded data removed]",
      "text/plain": [
       "<IPython.core.display.Image object>"
      ]
     },
     "execution_count": 25,
     "metadata": {},
     "output_type": "execute_result"
    }
   ],
   "source": [
    "keras.utils.plot_model(model, \"ticket_classifier.png\")"
   ]
  },
  {
   "cell_type": "code",
   "execution_count": 26,
   "metadata": {},
   "outputs": [
    {
     "name": "stdout",
     "output_type": "stream",
     "text": [
      "Requirement already satisfied: pydot in c:\\programdata\\anaconda3\\lib\\site-packages (1.4.2)\n",
      "Requirement already satisfied: pyparsing>=2.1.4 in c:\\programdata\\anaconda3\\lib\\site-packages (from pydot) (2.4.7)\n"
     ]
    }
   ],
   "source": [
    "!pip install pydot\n"
   ]
  },
  {
   "cell_type": "code",
   "execution_count": 27,
   "metadata": {},
   "outputs": [
    {
     "name": "stdout",
     "output_type": "stream",
     "text": [
      "Requirement already satisfied: graphviz in c:\\programdata\\anaconda3\\lib\\site-packages (0.20)\n"
     ]
    }
   ],
   "source": [
    "!pip install graphviz"
   ]
  },
  {
   "cell_type": "code",
   "execution_count": 28,
   "metadata": {},
   "outputs": [
    {
     "data": {
      "image/png": "[encoded data removed]",
      "text/plain": [
       "<IPython.core.display.Image object>"
      ]
     },
     "execution_count": 28,
     "metadata": {},
     "output_type": "execute_result"
    }
   ],
   "source": [
    "keras.utils.plot_model(model, \"ticket_classifier.png\", show_shapes=True)"
   ]
  },
  {
   "cell_type": "code",
   "execution_count": 29,
   "metadata": {},
   "outputs": [
    {
     "data": {
      "text/plain": [
       "[<keras.engine.input_layer.InputLayer at 0x1da378c2f10>,\n",
       " <keras.engine.input_layer.InputLayer at 0x1da378c2fa0>,\n",
       " <keras.engine.input_layer.InputLayer at 0x1da378cc070>,\n",
       " <keras.layers.merge.Concatenate at 0x1da378cc610>,\n",
       " <keras.layers.core.dense.Dense at 0x1da378a3040>,\n",
       " <keras.layers.core.dense.Dense at 0x1da378cf970>,\n",
       " <keras.layers.core.dense.Dense at 0x1da378d66d0>]"
      ]
     },
     "execution_count": 29,
     "metadata": {},
     "output_type": "execute_result"
    }
   ],
   "source": [
    "model.layers"
   ]
  },
  {
   "cell_type": "code",
   "execution_count": 30,
   "metadata": {},
   "outputs": [
    {
     "data": {
      "text/plain": [
       "<KerasTensor: shape=(None, 64) dtype=float32 (created by layer 'dense_8')>"
      ]
     },
     "execution_count": 30,
     "metadata": {},
     "output_type": "execute_result"
    }
   ],
   "source": [
    "model.layers[5].input"
   ]
  },
  {
   "cell_type": "code",
   "execution_count": 31,
   "metadata": {},
   "outputs": [],
   "source": [
    "features = model.layers[4].output\n",
    "difficulty = layers.Dense(3, activation=\"softmax\", name=\"difficulty\")(features)\n",
    "\n",
    "new_model = keras.Model(\n",
    "    inputs=[title, text_body, tags],\n",
    "    outputs=[priority, department, difficulty])"
   ]
  },
  {
   "cell_type": "code",
   "execution_count": 33,
   "metadata": {},
   "outputs": [
    {
     "data": {
      "image/png": "[encoded data removed]",
      "text/plain": [
       "<IPython.core.display.Image object>"
      ]
     },
     "execution_count": 33,
     "metadata": {},
     "output_type": "execute_result"
    }
   ],
   "source": [
    "keras.utils.plot_model(\n",
    "    new_model, \"updated_ticket_classifier.png\", show_shapes=True)"
   ]
  },
  {
   "cell_type": "code",
   "execution_count": null,
   "metadata": {},
   "outputs": [],
   "source": []
  }
 ],
 "metadata": {
  "kernelspec": {
   "display_name": "Python 3",
   "language": "python",
   "name": "python3"
  },
  "language_info": {
   "codemirror_mode": {
    "name": "ipython",
    "version": 3
   },
   "file_extension": ".py",
   "mimetype": "text/x-python",
   "name": "python",
   "nbconvert_exporter": "python",
   "pygments_lexer": "ipython3",
   "version": "3.8.3"
  }
 },
 "nbformat": 4,
 "nbformat_minor": 4
}
