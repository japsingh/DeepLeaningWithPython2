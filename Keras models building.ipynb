{
 "cells": [
  {
   "cell_type": "code",
   "execution_count": 1,
   "metadata": {},
   "outputs": [],
   "source": [
    "from tensorflow import keras\n",
    "from tensorflow.keras import layers"
   ]
  },
  {
   "cell_type": "code",
   "execution_count": 2,
   "metadata": {},
   "outputs": [],
   "source": [
    "model = keras.Sequential([\n",
    "    layers.Dense(64, activation=\"relu\"),\n",
    "    layers.Dense(10, activation=\"softmax\")\n",
    "])\n"
   ]
  },
  {
   "cell_type": "code",
   "execution_count": 3,
   "metadata": {},
   "outputs": [],
   "source": [
    "model = keras.Sequential()\n",
    "model.add(layers.Dense(64, activation=\"relu\"))\n",
    "model.add(layers.Dense(10, activation=\"softmax\"))"
   ]
  },
  {
   "cell_type": "code",
   "execution_count": 4,
   "metadata": {},
   "outputs": [
    {
     "data": {
      "text/plain": [
       "[<tf.Variable 'dense_2/kernel:0' shape=(3, 64) dtype=float32, numpy=\n",
       " array([[ 0.00713509, -0.16381341, -0.01405931, -0.26146236,  0.11174041,\n",
       "         -0.03111339, -0.17791331,  0.2677756 , -0.18305096, -0.03527623,\n",
       "         -0.03071943, -0.14995831,  0.24853557,  0.0136576 ,  0.19781518,\n",
       "          0.19813281,  0.09371579, -0.00643888, -0.14118151,  0.27311915,\n",
       "          0.10060179,  0.10015902,  0.03740397,  0.24814487,  0.14739901,\n",
       "          0.22529757,  0.21455479,  0.10437346, -0.19375557,  0.19094521,\n",
       "         -0.24477783, -0.01165932, -0.17661035,  0.29694968,  0.12827197,\n",
       "         -0.06852065, -0.21307574,  0.28087896,  0.24783766, -0.29382747,\n",
       "          0.20580047, -0.12219781,  0.26404387, -0.2541158 , -0.13047425,\n",
       "          0.24746668,  0.25342453, -0.07463911, -0.21202302, -0.18722528,\n",
       "          0.20283723,  0.29373938, -0.14336582,  0.1410495 ,  0.297252  ,\n",
       "          0.18098274, -0.07845163,  0.01666585, -0.04179284, -0.21623814,\n",
       "         -0.29745835, -0.15615791, -0.21164772,  0.13677901],\n",
       "        [ 0.27072752, -0.23797864,  0.17885786, -0.14618646, -0.229117  ,\n",
       "          0.0240851 ,  0.07675955,  0.2332496 ,  0.01319927, -0.11871798,\n",
       "         -0.00870717,  0.2005378 , -0.10979941,  0.11058852,  0.1904074 ,\n",
       "          0.00321499, -0.2639275 ,  0.27650476, -0.05355644,  0.28828484,\n",
       "         -0.06602919,  0.12542477,  0.05388179, -0.06473723,  0.01484746,\n",
       "          0.09476116,  0.283611  , -0.28854093, -0.10236843,  0.03004631,\n",
       "          0.29244477, -0.26837078, -0.16707057, -0.15847555,  0.15034845,\n",
       "          0.01585332, -0.10874732,  0.03234014,  0.14992484, -0.26925713,\n",
       "         -0.06138106, -0.02665019, -0.16549835, -0.28613502, -0.22078826,\n",
       "          0.1821886 , -0.12530378,  0.02842316,  0.26609927,  0.22155046,\n",
       "         -0.21814048,  0.07355928, -0.0867233 ,  0.04513025, -0.14942698,\n",
       "         -0.2206161 ,  0.26102906,  0.26285428,  0.07625279, -0.17367983,\n",
       "         -0.22597942, -0.23348318,  0.02224463, -0.0571495 ],\n",
       "        [-0.12443684, -0.26445958, -0.12441479, -0.24470991, -0.1494526 ,\n",
       "         -0.12829366,  0.11991256, -0.06490582,  0.2853756 ,  0.1681447 ,\n",
       "         -0.23609185, -0.25882065, -0.07072756, -0.11164495, -0.21394925,\n",
       "          0.16127136, -0.07006069, -0.06138483, -0.2369715 ,  0.1345962 ,\n",
       "         -0.13464074,  0.19214511, -0.09291397,  0.16559753, -0.22739004,\n",
       "         -0.01347774, -0.06579603, -0.12795676, -0.21587598, -0.03165323,\n",
       "         -0.14023009,  0.24109757,  0.12236404,  0.27236044,  0.03224462,\n",
       "         -0.29142228,  0.27863348, -0.2210957 ,  0.18163386, -0.25103694,\n",
       "         -0.1264698 , -0.13491914,  0.00761768, -0.18769774,  0.1425401 ,\n",
       "         -0.02733797,  0.11302269,  0.20185405, -0.13411604,  0.24733287,\n",
       "         -0.02844387,  0.15357378,  0.03721005, -0.06783593,  0.00524995,\n",
       "         -0.1287525 ,  0.25237215, -0.0539699 ,  0.27591527,  0.12631041,\n",
       "          0.13322055, -0.22289358, -0.22208008, -0.10041851]],\n",
       "       dtype=float32)>,\n",
       " <tf.Variable 'dense_2/bias:0' shape=(64,) dtype=float32, numpy=\n",
       " array([0., 0., 0., 0., 0., 0., 0., 0., 0., 0., 0., 0., 0., 0., 0., 0., 0.,\n",
       "        0., 0., 0., 0., 0., 0., 0., 0., 0., 0., 0., 0., 0., 0., 0., 0., 0.,\n",
       "        0., 0., 0., 0., 0., 0., 0., 0., 0., 0., 0., 0., 0., 0., 0., 0., 0.,\n",
       "        0., 0., 0., 0., 0., 0., 0., 0., 0., 0., 0., 0., 0.], dtype=float32)>,\n",
       " <tf.Variable 'dense_3/kernel:0' shape=(64, 10) dtype=float32, numpy=\n",
       " array([[-0.18290788,  0.10141927, -0.21165007,  0.11211473, -0.09752278,\n",
       "          0.22190973,  0.09948063, -0.07347396, -0.05468044,  0.13589212],\n",
       "        [-0.23855676,  0.2210348 , -0.1591797 ,  0.1820144 ,  0.1627557 ,\n",
       "         -0.07785328,  0.26931104, -0.06079698,  0.05188999,  0.22909972],\n",
       "        [ 0.06811798,  0.00988823,  0.19936672, -0.27438074, -0.0053542 ,\n",
       "         -0.12373801, -0.18406987, -0.23433235, -0.02287889,  0.0820244 ],\n",
       "        [ 0.1735656 ,  0.2536908 ,  0.12377489, -0.25104082, -0.2598548 ,\n",
       "         -0.25214556,  0.18588033,  0.14934868,  0.0023478 , -0.0837559 ],\n",
       "        [-0.01249954, -0.28291318, -0.14848262,  0.05726966, -0.16894391,\n",
       "         -0.17652902,  0.2310892 , -0.17245093, -0.01556873, -0.06179379],\n",
       "        [-0.08358061,  0.2454398 , -0.07875255, -0.06093003,  0.27926782,\n",
       "          0.24502698, -0.23747161,  0.1277189 , -0.00149235,  0.09180918],\n",
       "        [ 0.0026218 ,  0.22393093,  0.19463605, -0.01992062,  0.04923323,\n",
       "         -0.18851022,  0.09901819,  0.20955068, -0.2433377 ,  0.09866148],\n",
       "        [ 0.18097624,  0.14410567, -0.1596531 ,  0.14686164,  0.14159724,\n",
       "         -0.15898052, -0.09761253, -0.03699479,  0.20629132, -0.12428655],\n",
       "        [-0.12544787, -0.21661982,  0.02746406, -0.26449683, -0.03839338,\n",
       "          0.07368299, -0.15311939, -0.01463363,  0.19978762,  0.26587442],\n",
       "        [-0.27956262,  0.16549441, -0.12868094,  0.02284855,  0.02369511,\n",
       "         -0.09408671,  0.11389592,  0.21413517,  0.06110737,  0.05596477],\n",
       "        [ 0.10092634,  0.06634378, -0.17554742, -0.08123857, -0.22290446,\n",
       "          0.16746935,  0.2039738 ,  0.20276469,  0.22453228,  0.15409034],\n",
       "        [-0.15862715,  0.22463652, -0.1800877 ,  0.02804518,  0.04049128,\n",
       "         -0.02362317,  0.24226174,  0.23682174,  0.20221424,  0.15410507],\n",
       "        [ 0.21026051,  0.17131087, -0.04642084,  0.09067211,  0.09664252,\n",
       "         -0.013477  , -0.26857254,  0.20268613, -0.26088634, -0.04064932],\n",
       "        [ 0.10972196,  0.13426325, -0.12416089, -0.08470221, -0.1892564 ,\n",
       "          0.08078772,  0.1702539 ,  0.281279  , -0.20317379, -0.00926387],\n",
       "        [-0.2771217 ,  0.0788148 , -0.17340761,  0.1347323 , -0.1808666 ,\n",
       "         -0.04027715,  0.17326099, -0.10288073, -0.04382478, -0.21050641],\n",
       "        [-0.22171728, -0.24294673,  0.04130709,  0.05249494,  0.24729851,\n",
       "         -0.08701715,  0.10690477, -0.07173716,  0.1792936 ,  0.2339671 ],\n",
       "        [ 0.19816324, -0.2470103 , -0.2097551 , -0.21098849, -0.17052993,\n",
       "         -0.09974004,  0.09696895,  0.08264428, -0.1711624 , -0.2560519 ],\n",
       "        [-0.02539134,  0.08731425,  0.2704108 , -0.18358372, -0.15472136,\n",
       "          0.21585295,  0.01842326, -0.22313541,  0.25848874,  0.20457229],\n",
       "        [ 0.10668713, -0.1169506 ,  0.20849243, -0.02736235, -0.2646552 ,\n",
       "         -0.21510991,  0.18276408, -0.2709053 , -0.25771946,  0.10258907],\n",
       "        [-0.26988593, -0.09721966,  0.01853502, -0.04695812, -0.18402554,\n",
       "          0.02339533, -0.17197129, -0.01535907, -0.12640925, -0.16799387],\n",
       "        [-0.20365709,  0.05924115,  0.17296058,  0.2807192 , -0.02754402,\n",
       "         -0.2510626 ,  0.10607144, -0.2568885 ,  0.05185413,  0.04671142],\n",
       "        [-0.11910947,  0.2709131 ,  0.2788879 , -0.19696051,  0.19728109,\n",
       "         -0.28058946,  0.23971686, -0.23551546,  0.26620474, -0.16385236],\n",
       "        [ 0.02125356,  0.10270768, -0.05171409,  0.09085092, -0.23791581,\n",
       "          0.22022924, -0.07989566, -0.23700637,  0.28011647,  0.25779793],\n",
       "        [ 0.2803153 ,  0.08241442,  0.09889325,  0.11214581,  0.07605544,\n",
       "          0.1914205 , -0.24135691,  0.07966125,  0.05069563, -0.13633558],\n",
       "        [-0.2551016 ,  0.261066  ,  0.07370356, -0.256423  , -0.17968777,\n",
       "         -0.0641403 , -0.17431626,  0.27573273,  0.06476134,  0.06942222],\n",
       "        [-0.18572426, -0.18695258, -0.25926945, -0.1155176 , -0.06434539,\n",
       "          0.24016097, -0.12262911,  0.19223842,  0.22428969,  0.09156123],\n",
       "        [ 0.02569282,  0.24453333, -0.08075486, -0.03535153,  0.13625383,\n",
       "         -0.05895914,  0.01046491,  0.21974036,  0.01391059,  0.14058957],\n",
       "        [ 0.23133305,  0.0182583 ,  0.17882952,  0.04515621,  0.10342431,\n",
       "         -0.1380007 ,  0.17738557,  0.09975702,  0.12896547,  0.2706972 ],\n",
       "        [-0.02303225, -0.07960612, -0.1336454 , -0.133956  ,  0.19612888,\n",
       "          0.08615273, -0.17874011, -0.07817928, -0.23258713, -0.21278933],\n",
       "        [-0.02075368,  0.25592795, -0.10407001, -0.1793524 , -0.2294561 ,\n",
       "          0.00915721,  0.25315258,  0.11960548, -0.2817222 ,  0.07577622],\n",
       "        [-0.10338548,  0.11620286, -0.01472846, -0.02294013,  0.00767574,\n",
       "         -0.1798814 , -0.03208628,  0.0048838 , -0.25013116,  0.04469103],\n",
       "        [-0.03878096, -0.21333537, -0.04884884, -0.17337143, -0.06261945,\n",
       "          0.01099321,  0.21208104,  0.04874489,  0.21436217,  0.26806954],\n",
       "        [-0.24390179,  0.02574524,  0.0599235 ,  0.14723095, -0.00422189,\n",
       "          0.11485744,  0.19899061,  0.23091134,  0.02873066, -0.05166881],\n",
       "        [ 0.0592303 , -0.16015276, -0.06423447,  0.2401928 ,  0.04793417,\n",
       "          0.1021803 ,  0.23928496,  0.04739934,  0.2722905 ,  0.01537457],\n",
       "        [ 0.04985949,  0.25918236, -0.07828933, -0.04939622, -0.05457833,\n",
       "          0.1454264 , -0.00996101,  0.21358803,  0.12780437,  0.0293299 ],\n",
       "        [-0.11021328,  0.05708173, -0.2216891 ,  0.13949311, -0.14201204,\n",
       "          0.25207928, -0.15986192, -0.19826603, -0.15206513,  0.18038175],\n",
       "        [-0.2315785 , -0.1859343 ,  0.08756569,  0.23935601,  0.15580928,\n",
       "         -0.16859049, -0.14001699,  0.09177938,  0.03094649,  0.15211523],\n",
       "        [-0.2046169 ,  0.11568251, -0.2714942 ,  0.0156219 ,  0.27359936,\n",
       "         -0.2590746 ,  0.1831941 , -0.0148569 ,  0.09353179,  0.26061127],\n",
       "        [-0.18663195, -0.13904163, -0.18745658,  0.00421605,  0.27749482,\n",
       "          0.06193534,  0.13142177, -0.2783287 , -0.26697642, -0.2374822 ],\n",
       "        [ 0.14904884,  0.15426561,  0.04026595, -0.23678553,  0.1299325 ,\n",
       "          0.06795275, -0.2749531 ,  0.19047132, -0.09882042, -0.06447133],\n",
       "        [ 0.17911491,  0.01433578, -0.15936986, -0.1747168 , -0.01126111,\n",
       "         -0.25258026,  0.11224324,  0.23950908, -0.05428186, -0.18488936],\n",
       "        [-0.21452124,  0.24320105, -0.20240977,  0.10883954,  0.2519354 ,\n",
       "         -0.24871004, -0.16231713,  0.07114938, -0.22848955, -0.0535991 ],\n",
       "        [ 0.16570607,  0.19101778, -0.00591797, -0.13160934,  0.13100207,\n",
       "          0.00639474,  0.173814  ,  0.27069226,  0.28278682, -0.20975563],\n",
       "        [-0.20965198,  0.17338419,  0.17464015, -0.26928857, -0.09540471,\n",
       "         -0.26132974, -0.14923756, -0.08602272,  0.24006745, -0.18170843],\n",
       "        [-0.0162828 ,  0.16573364, -0.15232617, -0.1827943 , -0.00304279,\n",
       "          0.23064998,  0.1678038 ,  0.27187636, -0.08051507,  0.14028218],\n",
       "        [-0.17961119,  0.27006516, -0.08431673,  0.01516655,  0.1579723 ,\n",
       "          0.26223823, -0.12393102,  0.01194692, -0.00165194,  0.25013098],\n",
       "        [ 0.16497281,  0.2382057 ,  0.03310931, -0.08124   ,  0.22893134,\n",
       "          0.17737669, -0.17853454, -0.09508829, -0.04400848, -0.22864963],\n",
       "        [ 0.2303575 , -0.12279633, -0.11998524, -0.02451903,  0.27575383,\n",
       "         -0.27072036,  0.18135852,  0.01874498, -0.0481324 , -0.27421075],\n",
       "        [-0.16778085, -0.10599615, -0.16485333,  0.12237567,  0.24486509,\n",
       "          0.20749351,  0.27499047,  0.19836304, -0.09551333,  0.16636637],\n",
       "        [-0.15000239, -0.17987391, -0.0744164 ,  0.11450815, -0.23791018,\n",
       "         -0.13450685, -0.23314857, -0.06396012,  0.08681449,  0.09960106],\n",
       "        [-0.21171057, -0.26350802, -0.11016169,  0.24878106,  0.1580224 ,\n",
       "          0.1833967 ,  0.10281515,  0.23574153,  0.1601662 , -0.26409087],\n",
       "        [ 0.0462074 ,  0.08306974,  0.05453381, -0.10662012, -0.0527492 ,\n",
       "         -0.23215795, -0.21883017, -0.22690801,  0.28229943,  0.0618608 ],\n",
       "        [ 0.26345667,  0.20473939, -0.2116915 , -0.25340614,  0.14964366,\n",
       "          0.10453254, -0.13025041,  0.05432394, -0.06906009,  0.23081908],\n",
       "        [ 0.25315222, -0.01480877, -0.19828632,  0.20921674, -0.08300185,\n",
       "         -0.00642392,  0.10543716, -0.27256387,  0.14119658, -0.17687397],\n",
       "        [ 0.19664925,  0.14296657,  0.18772855,  0.14506733, -0.25016096,\n",
       "          0.02581176, -0.16057007,  0.07296351,  0.02010262, -0.14437032],\n",
       "        [ 0.14166099, -0.20482749,  0.13324621, -0.26464483,  0.22881952,\n",
       "          0.17835414,  0.23276839, -0.24310179, -0.01391456, -0.01517254],\n",
       "        [-0.04993017, -0.2755836 ,  0.13293195, -0.28362498,  0.18041676,\n",
       "         -0.02109367,  0.22840169,  0.25974944, -0.2639823 ,  0.11829981],\n",
       "        [ 0.01820228,  0.19516063, -0.07738879, -0.22900185, -0.0804438 ,\n",
       "          0.23246321, -0.16726503, -0.21136183, -0.18808477, -0.21624711],\n",
       "        [ 0.17147285,  0.22715446,  0.03450719, -0.02072707,  0.00985572,\n",
       "          0.05036113,  0.09341827,  0.19135293, -0.01905259, -0.27537376],\n",
       "        [-0.05913369, -0.01566797, -0.09095696,  0.12557563,  0.23558506,\n",
       "          0.01671144, -0.19151825, -0.20475602, -0.22409597,  0.16534615],\n",
       "        [ 0.05681047, -0.20337412,  0.1870904 , -0.16455734,  0.08420932,\n",
       "          0.10962027,  0.15811071, -0.14010383,  0.07202798, -0.25111604],\n",
       "        [-0.20729634,  0.04977816, -0.20845678, -0.0911258 ,  0.01394448,\n",
       "          0.09616452, -0.102456  ,  0.18389723, -0.04227398, -0.14271687],\n",
       "        [ 0.02913162, -0.02483505,  0.1526415 ,  0.25621065, -0.2764215 ,\n",
       "          0.12166381, -0.13000138, -0.1826854 , -0.09808531, -0.0807087 ],\n",
       "        [ 0.07307491, -0.0452522 , -0.05100879, -0.23104246,  0.21845981,\n",
       "          0.24843612,  0.11962062,  0.13939452,  0.28407446,  0.2777368 ]],\n",
       "       dtype=float32)>,\n",
       " <tf.Variable 'dense_3/bias:0' shape=(10,) dtype=float32, numpy=array([0., 0., 0., 0., 0., 0., 0., 0., 0., 0.], dtype=float32)>]"
      ]
     },
     "execution_count": 4,
     "metadata": {},
     "output_type": "execute_result"
    }
   ],
   "source": [
    "model.build(input_shape=(None, 3))\n",
    "model.weights"
   ]
  },
  {
   "cell_type": "code",
   "execution_count": 5,
   "metadata": {},
   "outputs": [
    {
     "name": "stdout",
     "output_type": "stream",
     "text": [
      "Model: \"sequential_1\"\n",
      "_________________________________________________________________\n",
      " Layer (type)                Output Shape              Param #   \n",
      "=================================================================\n",
      " dense_2 (Dense)             (None, 64)                256       \n",
      "                                                                 \n",
      " dense_3 (Dense)             (None, 10)                650       \n",
      "                                                                 \n",
      "=================================================================\n",
      "Total params: 906\n",
      "Trainable params: 906\n",
      "Non-trainable params: 0\n",
      "_________________________________________________________________\n"
     ]
    }
   ],
   "source": [
    "model.summary()"
   ]
  },
  {
   "cell_type": "code",
   "execution_count": 6,
   "metadata": {},
   "outputs": [
    {
     "name": "stdout",
     "output_type": "stream",
     "text": [
      "Model: \"my_example_model\"\n",
      "_________________________________________________________________\n",
      " Layer (type)                Output Shape              Param #   \n",
      "=================================================================\n",
      " my_first_layer (Dense)      (None, 64)                256       \n",
      "                                                                 \n",
      " my_last_layer (Dense)       (None, 10)                650       \n",
      "                                                                 \n",
      "=================================================================\n",
      "Total params: 906\n",
      "Trainable params: 906\n",
      "Non-trainable params: 0\n",
      "_________________________________________________________________\n"
     ]
    }
   ],
   "source": [
    "model = keras.Sequential(name=\"my_example_model\")\n",
    "model.add(layers.Dense(64, activation=\"relu\", name=\"my_first_layer\"))\n",
    "model.add(layers.Dense(10, activation=\"softmax\", name=\"my_last_layer\"))\n",
    "model.build((None,3))\n",
    "model.summary()"
   ]
  },
  {
   "cell_type": "code",
   "execution_count": 7,
   "metadata": {},
   "outputs": [
    {
     "name": "stdout",
     "output_type": "stream",
     "text": [
      "Model: \"sequential_2\"\n",
      "_________________________________________________________________\n",
      " Layer (type)                Output Shape              Param #   \n",
      "=================================================================\n",
      " dense_4 (Dense)             (None, 64)                256       \n",
      "                                                                 \n",
      "=================================================================\n",
      "Total params: 256\n",
      "Trainable params: 256\n",
      "Non-trainable params: 0\n",
      "_________________________________________________________________\n"
     ]
    }
   ],
   "source": [
    "model=keras.Sequential()\n",
    "model.add(keras.Input(shape=(3,)))\n",
    "model.add(layers.Dense(64, activation=\"relu\"))\n",
    "model.summary()"
   ]
  },
  {
   "cell_type": "code",
   "execution_count": 8,
   "metadata": {},
   "outputs": [
    {
     "name": "stdout",
     "output_type": "stream",
     "text": [
      "Model: \"sequential_2\"\n",
      "_________________________________________________________________\n",
      " Layer (type)                Output Shape              Param #   \n",
      "=================================================================\n",
      " dense_4 (Dense)             (None, 64)                256       \n",
      "                                                                 \n",
      " dense_5 (Dense)             (None, 10)                650       \n",
      "                                                                 \n",
      "=================================================================\n",
      "Total params: 906\n",
      "Trainable params: 906\n",
      "Non-trainable params: 0\n",
      "_________________________________________________________________\n"
     ]
    }
   ],
   "source": [
    "model.add(layers.Dense(10, activation=\"softmax\"))\n",
    "model.summary()"
   ]
  },
  {
   "cell_type": "code",
   "execution_count": 9,
   "metadata": {},
   "outputs": [
    {
     "data": {
      "text/plain": [
       "TensorShape([None, 3])"
      ]
     },
     "execution_count": 9,
     "metadata": {},
     "output_type": "execute_result"
    }
   ],
   "source": [
    "inputs = keras.Input(shape=(3,), name=\"my_input\")\n",
    "inputs.shape"
   ]
  },
  {
   "cell_type": "code",
   "execution_count": 10,
   "metadata": {},
   "outputs": [
    {
     "data": {
      "text/plain": [
       "tf.float32"
      ]
     },
     "execution_count": 10,
     "metadata": {},
     "output_type": "execute_result"
    }
   ],
   "source": [
    "inputs.dtype"
   ]
  },
  {
   "cell_type": "code",
   "execution_count": 11,
   "metadata": {},
   "outputs": [],
   "source": [
    "features=layers.Dense(64, activation=\"relu\")(inputs)"
   ]
  },
  {
   "cell_type": "code",
   "execution_count": 12,
   "metadata": {},
   "outputs": [
    {
     "data": {
      "text/plain": [
       "TensorShape([None, 64])"
      ]
     },
     "execution_count": 12,
     "metadata": {},
     "output_type": "execute_result"
    }
   ],
   "source": [
    "features.shape"
   ]
  },
  {
   "cell_type": "code",
   "execution_count": 13,
   "metadata": {},
   "outputs": [],
   "source": [
    "outputs = layers.Dense(10, activation=\"softmax\")(features)"
   ]
  },
  {
   "cell_type": "code",
   "execution_count": 14,
   "metadata": {},
   "outputs": [
    {
     "data": {
      "text/plain": [
       "TensorShape([None, 10])"
      ]
     },
     "execution_count": 14,
     "metadata": {},
     "output_type": "execute_result"
    }
   ],
   "source": [
    "outputs.shape"
   ]
  },
  {
   "cell_type": "code",
   "execution_count": 15,
   "metadata": {},
   "outputs": [],
   "source": [
    "model = keras.Model(inputs = inputs, outputs = outputs)"
   ]
  },
  {
   "cell_type": "code",
   "execution_count": 16,
   "metadata": {},
   "outputs": [
    {
     "name": "stdout",
     "output_type": "stream",
     "text": [
      "Model: \"model\"\n",
      "_________________________________________________________________\n",
      " Layer (type)                Output Shape              Param #   \n",
      "=================================================================\n",
      " my_input (InputLayer)       [(None, 3)]               0         \n",
      "                                                                 \n",
      " dense_6 (Dense)             (None, 64)                256       \n",
      "                                                                 \n",
      " dense_7 (Dense)             (None, 10)                650       \n",
      "                                                                 \n",
      "=================================================================\n",
      "Total params: 906\n",
      "Trainable params: 906\n",
      "Non-trainable params: 0\n",
      "_________________________________________________________________\n"
     ]
    }
   ],
   "source": [
    "model.summary()"
   ]
  },
  {
   "cell_type": "code",
   "execution_count": 17,
   "metadata": {},
   "outputs": [],
   "source": [
    "vocabulary_size=10000\n",
    "num_tags=100\n",
    "num_departments=4\n",
    "\n",
    "title = keras.Input(shape=(vocabulary_size,), name=\"title\")\n",
    "text_body=keras.Input(shape=(vocabulary_size,), name=\"text_body\")\n",
    "tags = keras.Input(shape=(num_tags,), name=\"tags\")\n",
    "\n",
    "features=layers.Dense(64, activation=\"relu\")(layers.Concatenate()([title, text_body, tags]))"
   ]
  },
  {
   "cell_type": "code",
   "execution_count": 18,
   "metadata": {},
   "outputs": [],
   "source": [
    "priority=layers.Dense(1, activation=\"sigmoid\", name=\"priority\")(features)"
   ]
  },
  {
   "cell_type": "code",
   "execution_count": 19,
   "metadata": {},
   "outputs": [],
   "source": [
    "department = layers.Dense(num_departments, activation=\"softmax\", name=\"department\")(features)"
   ]
  },
  {
   "cell_type": "code",
   "execution_count": 20,
   "metadata": {},
   "outputs": [],
   "source": [
    "model=keras.Model(inputs=[title, text_body, tags],\n",
    "                  outputs=[priority, department])"
   ]
  },
  {
   "cell_type": "code",
   "execution_count": 21,
   "metadata": {},
   "outputs": [
    {
     "name": "stdout",
     "output_type": "stream",
     "text": [
      "Model: \"model_1\"\n",
      "__________________________________________________________________________________________________\n",
      " Layer (type)                   Output Shape         Param #     Connected to                     \n",
      "==================================================================================================\n",
      " title (InputLayer)             [(None, 10000)]      0           []                               \n",
      "                                                                                                  \n",
      " text_body (InputLayer)         [(None, 10000)]      0           []                               \n",
      "                                                                                                  \n",
      " tags (InputLayer)              [(None, 100)]        0           []                               \n",
      "                                                                                                  \n",
      " concatenate (Concatenate)      (None, 20100)        0           ['title[0][0]',                  \n",
      "                                                                  'text_body[0][0]',              \n",
      "                                                                  'tags[0][0]']                   \n",
      "                                                                                                  \n",
      " dense_8 (Dense)                (None, 64)           1286464     ['concatenate[0][0]']            \n",
      "                                                                                                  \n",
      " priority (Dense)               (None, 1)            65          ['dense_8[0][0]']                \n",
      "                                                                                                  \n",
      " department (Dense)             (None, 4)            260         ['dense_8[0][0]']                \n",
      "                                                                                                  \n",
      "==================================================================================================\n",
      "Total params: 1,286,789\n",
      "Trainable params: 1,286,789\n",
      "Non-trainable params: 0\n",
      "__________________________________________________________________________________________________\n"
     ]
    }
   ],
   "source": [
    "model.summary()"
   ]
  },
  {
   "cell_type": "code",
   "execution_count": 22,
   "metadata": {},
   "outputs": [
    {
     "name": "stdout",
     "output_type": "stream",
     "text": [
      "40/40 [==============================] - 1s 12ms/step - loss: 28.6059 - priority_loss: 0.3206 - department_loss: 28.2853 - priority_mean_absolute_error: 0.4860 - department_accuracy: 0.2562 0s - loss: 29.1960 - priority_loss: 0.3185 - department_loss: 28.8775 - priority_mean_absolute_error: 0.4849 - department_accuracy: 0.\n",
      "40/40 [==============================] - 0s 5ms/step - loss: 35.3955 - priority_loss: 0.3325 - department_loss: 35.0630 - priority_mean_absolute_error: 0.4967 - department_accuracy: 0.5562\n"
     ]
    },
    {
     "data": {
      "text/plain": [
       "[35.39549255371094,\n",
       " 0.3325038552284241,\n",
       " 35.06299591064453,\n",
       " 0.4967368543148041,\n",
       " 0.5562499761581421]"
      ]
     },
     "execution_count": 22,
     "metadata": {},
     "output_type": "execute_result"
    }
   ],
   "source": [
    "import numpy as np\n",
    "\n",
    "num_samples = 1280\n",
    "\n",
    "title_data = np.random.randint(0, 2, size=(num_samples, vocabulary_size))\n",
    "text_body_data = np.random.randint(0, 2, size=(num_samples, vocabulary_size))\n",
    "tags_data = np.random.randint(0, 2, size=(num_samples, num_tags))\n",
    "\n",
    "priority_data = np.random.random(size=(num_samples, 1))\n",
    "department_data = np.random.randint(0, 2, size=(num_samples, num_departments))\n",
    "\n",
    "model.compile(optimizer=\"rmsprop\",\n",
    "              loss=[\"mean_squared_error\", \"categorical_crossentropy\"],\n",
    "              metrics=[[\"mean_absolute_error\"], [\"accuracy\"]])\n",
    "model.fit([title_data, text_body_data, tags_data],\n",
    "          [priority_data, department_data],\n",
    "          epochs=1)\n",
    "\n",
    "model.evaluate([title_data, text_body_data, tags_data],\n",
    "               [priority_data, department_data])"
   ]
  },
  {
   "cell_type": "code",
   "execution_count": 23,
   "metadata": {},
   "outputs": [],
   "source": [
    "priority_preds, department_preds = model.predict(\n",
    "[title_data, text_body_data, tags_data])"
   ]
  },
  {
   "cell_type": "code",
   "execution_count": 24,
   "metadata": {},
   "outputs": [
    {
     "data": {
      "image/png": "[encoded data removed]",
      "text/plain": [
       "<IPython.core.display.Image object>"
      ]
     },
     "execution_count": 24,
     "metadata": {},
     "output_type": "execute_result"
    }
   ],
   "source": [
    "keras.utils.plot_model(model, \"ticket_classifier.png\")"
   ]
  },
  {
   "cell_type": "code",
   "execution_count": 25,
   "metadata": {},
   "outputs": [
    {
     "name": "stdout",
     "output_type": "stream",
     "text": [
      "Requirement already satisfied: pydot in c:\\programdata\\anaconda3\\lib\\site-packages (1.4.2)\n",
      "Requirement already satisfied: pyparsing>=2.1.4 in c:\\programdata\\anaconda3\\lib\\site-packages (from pydot) (2.4.7)\n"
     ]
    }
   ],
   "source": [
    "!pip install pydot\n"
   ]
  },
  {
   "cell_type": "code",
   "execution_count": 26,
   "metadata": {},
   "outputs": [
    {
     "name": "stdout",
     "output_type": "stream",
     "text": [
      "Requirement already satisfied: graphviz in c:\\programdata\\anaconda3\\lib\\site-packages (0.20)\n"
     ]
    }
   ],
   "source": [
    "!pip install graphviz"
   ]
  },
  {
   "cell_type": "code",
   "execution_count": 28,
   "metadata": {},
   "outputs": [
    {
     "data": {
      "image/png": "[encoded data removed]",
      "text/plain": [
       "<IPython.core.display.Image object>"
      ]
     },
     "execution_count": 28,
     "metadata": {},
     "output_type": "execute_result"
    }
   ],
   "source": [
    "keras.utils.plot_model(model, \"ticket_classifier.png\", show_shapes=True)"
   ]
  },
  {
   "cell_type": "code",
   "execution_count": 30,
   "metadata": {},
   "outputs": [
    {
     "data": {
      "text/plain": [
       "[<keras.engine.input_layer.InputLayer at 0x18ffd5eff10>,\n",
       " <keras.engine.input_layer.InputLayer at 0x18ffd5eff70>,\n",
       " <keras.engine.input_layer.InputLayer at 0x18ffd5f1160>,\n",
       " <keras.layers.merge.Concatenate at 0x18ffd5f1b50>,\n",
       " <keras.layers.core.dense.Dense at 0x18ffd5f1370>,\n",
       " <keras.layers.core.dense.Dense at 0x18ffd5ef970>,\n",
       " <keras.layers.core.dense.Dense at 0x18ffd606070>]"
      ]
     },
     "execution_count": 30,
     "metadata": {},
     "output_type": "execute_result"
    }
   ],
   "source": [
    "model.layers"
   ]
  },
  {
   "cell_type": "code",
   "execution_count": 35,
   "metadata": {},
   "outputs": [
    {
     "data": {
      "text/plain": [
       "<KerasTensor: shape=(None, 64) dtype=float32 (created by layer 'dense_8')>"
      ]
     },
     "execution_count": 35,
     "metadata": {},
     "output_type": "execute_result"
    }
   ],
   "source": [
    "model.layers[5].input"
   ]
  },
  {
   "cell_type": "code",
   "execution_count": null,
   "metadata": {},
   "outputs": [],
   "source": []
  }
 ],
 "metadata": {
  "kernelspec": {
   "display_name": "Python 3",
   "language": "python",
   "name": "python3"
  },
  "language_info": {
   "codemirror_mode": {
    "name": "ipython",
    "version": 3
   },
   "file_extension": ".py",
   "mimetype": "text/x-python",
   "name": "python",
   "nbconvert_exporter": "python",
   "pygments_lexer": "ipython3",
   "version": "3.8.3"
  }
 },
 "nbformat": 4,
 "nbformat_minor": 4
}
