{
 "cells": [
  {
   "cell_type": "code",
   "execution_count": 1,
   "metadata": {},
   "outputs": [
    {
     "name": "stdout",
     "output_type": "stream",
     "text": [
      "Requirement already satisfied: tensorflow in c:\\users\\japneet\\anaconda3\\lib\\site-packages (2.9.1)\n",
      "Requirement already satisfied: keras-preprocessing>=1.1.1 in c:\\users\\japneet\\anaconda3\\lib\\site-packages (from tensorflow) (1.1.2)\n",
      "Requirement already satisfied: packaging in c:\\users\\japneet\\anaconda3\\lib\\site-packages (from tensorflow) (21.3)\n",
      "Requirement already satisfied: gast<=0.4.0,>=0.2.1 in c:\\users\\japneet\\anaconda3\\lib\\site-packages (from tensorflow) (0.4.0)\n",
      "Requirement already satisfied: flatbuffers<2,>=1.12 in c:\\users\\japneet\\anaconda3\\lib\\site-packages (from tensorflow) (1.12)\n",
      "Requirement already satisfied: tensorflow-io-gcs-filesystem>=0.23.1 in c:\\users\\japneet\\anaconda3\\lib\\site-packages (from tensorflow) (0.26.0)\n",
      "Requirement already satisfied: numpy>=1.20 in c:\\users\\japneet\\anaconda3\\lib\\site-packages (from tensorflow) (1.21.5)\n",
      "Requirement already satisfied: tensorflow-estimator<2.10.0,>=2.9.0rc0 in c:\\users\\japneet\\anaconda3\\lib\\site-packages (from tensorflow) (2.9.0)\n",
      "Requirement already satisfied: six>=1.12.0 in c:\\users\\japneet\\anaconda3\\lib\\site-packages (from tensorflow) (1.16.0)\n",
      "Requirement already satisfied: typing-extensions>=3.6.6 in c:\\users\\japneet\\anaconda3\\lib\\site-packages (from tensorflow) (4.1.1)\n",
      "Requirement already satisfied: setuptools in c:\\users\\japneet\\anaconda3\\lib\\site-packages (from tensorflow) (61.2.0)\n",
      "Requirement already satisfied: grpcio<2.0,>=1.24.3 in c:\\users\\japneet\\anaconda3\\lib\\site-packages (from tensorflow) (1.42.0)\n",
      "Requirement already satisfied: h5py>=2.9.0 in c:\\users\\japneet\\anaconda3\\lib\\site-packages (from tensorflow) (3.6.0)\n",
      "Requirement already satisfied: keras<2.10.0,>=2.9.0rc0 in c:\\users\\japneet\\anaconda3\\lib\\site-packages (from tensorflow) (2.9.0)\n",
      "Requirement already satisfied: opt-einsum>=2.3.2 in c:\\users\\japneet\\anaconda3\\lib\\site-packages (from tensorflow) (3.3.0)\n",
      "Requirement already satisfied: libclang>=13.0.0 in c:\\users\\japneet\\anaconda3\\lib\\site-packages (from tensorflow) (14.0.1)\n",
      "Requirement already satisfied: astunparse>=1.6.0 in c:\\users\\japneet\\anaconda3\\lib\\site-packages (from tensorflow) (1.6.3)\n",
      "Requirement already satisfied: termcolor>=1.1.0 in c:\\users\\japneet\\anaconda3\\lib\\site-packages (from tensorflow) (1.1.0)\n",
      "Requirement already satisfied: tensorboard<2.10,>=2.9 in c:\\users\\japneet\\anaconda3\\lib\\site-packages (from tensorflow) (2.9.0)\n",
      "Requirement already satisfied: wrapt>=1.11.0 in c:\\users\\japneet\\anaconda3\\lib\\site-packages (from tensorflow) (1.12.1)\n",
      "Requirement already satisfied: google-pasta>=0.1.1 in c:\\users\\japneet\\anaconda3\\lib\\site-packages (from tensorflow) (0.2.0)\n",
      "Requirement already satisfied: protobuf<3.20,>=3.9.2 in c:\\users\\japneet\\anaconda3\\lib\\site-packages (from tensorflow) (3.19.1)\n",
      "Requirement already satisfied: absl-py>=1.0.0 in c:\\users\\japneet\\anaconda3\\lib\\site-packages (from tensorflow) (1.0.0)\n",
      "Requirement already satisfied: wheel<1.0,>=0.23.0 in c:\\users\\japneet\\anaconda3\\lib\\site-packages (from astunparse>=1.6.0->tensorflow) (0.37.1)\n",
      "Requirement already satisfied: tensorboard-data-server<0.7.0,>=0.6.0 in c:\\users\\japneet\\anaconda3\\lib\\site-packages (from tensorboard<2.10,>=2.9->tensorflow) (0.6.1)\n",
      "Requirement already satisfied: requests<3,>=2.21.0 in c:\\users\\japneet\\anaconda3\\lib\\site-packages (from tensorboard<2.10,>=2.9->tensorflow) (2.27.1)\n",
      "Requirement already satisfied: markdown>=2.6.8 in c:\\users\\japneet\\anaconda3\\lib\\site-packages (from tensorboard<2.10,>=2.9->tensorflow) (3.3.4)\n",
      "Requirement already satisfied: tensorboard-plugin-wit>=1.6.0 in c:\\users\\japneet\\anaconda3\\lib\\site-packages (from tensorboard<2.10,>=2.9->tensorflow) (1.8.1)\n",
      "Requirement already satisfied: werkzeug>=1.0.1 in c:\\users\\japneet\\anaconda3\\lib\\site-packages (from tensorboard<2.10,>=2.9->tensorflow) (2.0.3)\n",
      "Requirement already satisfied: google-auth<3,>=1.6.3 in c:\\users\\japneet\\anaconda3\\lib\\site-packages (from tensorboard<2.10,>=2.9->tensorflow) (1.33.0)\n",
      "Requirement already satisfied: google-auth-oauthlib<0.5,>=0.4.1 in c:\\users\\japneet\\anaconda3\\lib\\site-packages (from tensorboard<2.10,>=2.9->tensorflow) (0.4.6)\n",
      "Requirement already satisfied: pyasn1-modules>=0.2.1 in c:\\users\\japneet\\anaconda3\\lib\\site-packages (from google-auth<3,>=1.6.3->tensorboard<2.10,>=2.9->tensorflow) (0.2.8)\n",
      "Requirement already satisfied: cachetools<5.0,>=2.0.0 in c:\\users\\japneet\\anaconda3\\lib\\site-packages (from google-auth<3,>=1.6.3->tensorboard<2.10,>=2.9->tensorflow) (4.2.2)\n",
      "Requirement already satisfied: rsa<5,>=3.1.4 in c:\\users\\japneet\\anaconda3\\lib\\site-packages (from google-auth<3,>=1.6.3->tensorboard<2.10,>=2.9->tensorflow) (4.7.2)\n",
      "Requirement already satisfied: requests-oauthlib>=0.7.0 in c:\\users\\japneet\\anaconda3\\lib\\site-packages (from google-auth-oauthlib<0.5,>=0.4.1->tensorboard<2.10,>=2.9->tensorflow) (1.3.1)\n",
      "Requirement already satisfied: pyasn1<0.5.0,>=0.4.6 in c:\\users\\japneet\\anaconda3\\lib\\site-packages (from pyasn1-modules>=0.2.1->google-auth<3,>=1.6.3->tensorboard<2.10,>=2.9->tensorflow) (0.4.8)\n",
      "Requirement already satisfied: urllib3<1.27,>=1.21.1 in c:\\users\\japneet\\anaconda3\\lib\\site-packages (from requests<3,>=2.21.0->tensorboard<2.10,>=2.9->tensorflow) (1.26.9)\n",
      "Requirement already satisfied: charset-normalizer~=2.0.0 in c:\\users\\japneet\\anaconda3\\lib\\site-packages (from requests<3,>=2.21.0->tensorboard<2.10,>=2.9->tensorflow) (2.0.4)\n",
      "Requirement already satisfied: certifi>=2017.4.17 in c:\\users\\japneet\\anaconda3\\lib\\site-packages (from requests<3,>=2.21.0->tensorboard<2.10,>=2.9->tensorflow) (2021.10.8)\n",
      "Requirement already satisfied: idna<4,>=2.5 in c:\\users\\japneet\\anaconda3\\lib\\site-packages (from requests<3,>=2.21.0->tensorboard<2.10,>=2.9->tensorflow) (3.3)\n",
      "Requirement already satisfied: oauthlib>=3.0.0 in c:\\users\\japneet\\anaconda3\\lib\\site-packages (from requests-oauthlib>=0.7.0->google-auth-oauthlib<0.5,>=0.4.1->tensorboard<2.10,>=2.9->tensorflow) (3.2.0)\n",
      "Requirement already satisfied: pyparsing!=3.0.5,>=2.0.2 in c:\\users\\japneet\\anaconda3\\lib\\site-packages (from packaging->tensorflow) (3.0.4)\n"
     ]
    }
   ],
   "source": [
    "!pip install tensorflow\n",
    "\n",
    "from tensorflow import keras\n",
    "from tensorflow.keras import layers"
   ]
  },
  {
   "cell_type": "code",
   "execution_count": 2,
   "metadata": {},
   "outputs": [],
   "source": [
    "model = keras.Sequential([\n",
    "    layers.Dense(64, activation=\"relu\"),\n",
    "    layers.Dense(10, activation=\"softmax\")\n",
    "])\n"
   ]
  },
  {
   "cell_type": "code",
   "execution_count": 3,
   "metadata": {},
   "outputs": [],
   "source": [
    "model = keras.Sequential()\n",
    "model.add(layers.Dense(64, activation=\"relu\"))\n",
    "model.add(layers.Dense(10, activation=\"softmax\"))"
   ]
  },
  {
   "cell_type": "code",
   "execution_count": 4,
   "metadata": {},
   "outputs": [
    {
     "data": {
      "text/plain": [
       "[<tf.Variable 'dense_2/kernel:0' shape=(3, 64) dtype=float32, numpy=\n",
       " array([[ 0.28193653,  0.19512424, -0.11698174, -0.16158473,  0.2703275 ,\n",
       "         -0.19709876, -0.08922067,  0.13335675, -0.26112774,  0.01128033,\n",
       "         -0.18762234, -0.08968636,  0.09633785, -0.17620105,  0.08640602,\n",
       "          0.16725099, -0.29797298,  0.01798326,  0.03804052, -0.21405   ,\n",
       "          0.18924314,  0.14532095,  0.06585583,  0.22074628,  0.1813086 ,\n",
       "         -0.23918141, -0.00782737,  0.2980289 ,  0.06704161,  0.16428795,\n",
       "         -0.27903458,  0.00536096, -0.22136709, -0.18193895, -0.26885843,\n",
       "         -0.16180563, -0.18970889, -0.16717131, -0.23716685, -0.03419048,\n",
       "          0.26097125,  0.18642154, -0.01352811, -0.12265708,  0.01907659,\n",
       "         -0.22857511,  0.17225033,  0.19248387,  0.21461606, -0.13177449,\n",
       "         -0.08665965,  0.05964431, -0.10817426,  0.22606474,  0.09982911,\n",
       "          0.04307857, -0.17387833,  0.29171103, -0.18296956, -0.065632  ,\n",
       "         -0.2668082 , -0.26827946,  0.17218867,  0.12750512],\n",
       "        [-0.29304415,  0.18609408, -0.01733342,  0.1545861 ,  0.23345381,\n",
       "         -0.05758251, -0.17658468,  0.2551183 , -0.09693205, -0.104002  ,\n",
       "          0.20353109,  0.26433915,  0.17648223,  0.29051292, -0.03341237,\n",
       "          0.15997577, -0.13517798, -0.28028965,  0.22870135, -0.08839041,\n",
       "         -0.2916115 ,  0.00204781,  0.0447489 ,  0.15723681,  0.28719586,\n",
       "          0.16321966, -0.267633  ,  0.12221551, -0.07440759, -0.19679433,\n",
       "          0.2312187 , -0.28231493, -0.23278797,  0.16276482, -0.15336065,\n",
       "          0.19681168,  0.1890057 , -0.03927711,  0.25473303,  0.27068508,\n",
       "         -0.06617124,  0.01199758, -0.1574916 , -0.08930087, -0.10217729,\n",
       "          0.16715118, -0.2623393 ,  0.12423307,  0.08142033,  0.2769078 ,\n",
       "          0.10990694,  0.11733741, -0.15082155, -0.13784152,  0.09113437,\n",
       "          0.17131925, -0.218005  ,  0.23286402, -0.2366269 ,  0.16827312,\n",
       "          0.07532448,  0.14304826,  0.07891333, -0.22204775],\n",
       "        [ 0.19422147, -0.26116675,  0.26745766, -0.14453962,  0.13594517,\n",
       "          0.04817736, -0.13288324,  0.1794644 , -0.11737522, -0.03254935,\n",
       "         -0.12365751, -0.23715521,  0.14234027,  0.10657778,  0.29303783,\n",
       "          0.28118408, -0.2727314 , -0.15693809,  0.05871624, -0.21169803,\n",
       "          0.12491009,  0.10925695, -0.03237396,  0.16806763,  0.09723899,\n",
       "         -0.02956879,  0.16266435,  0.24320143,  0.0503611 ,  0.10627505,\n",
       "          0.12858719, -0.11579908,  0.06591925, -0.02300027,  0.09257102,\n",
       "         -0.02511635, -0.00151464,  0.25563622,  0.10104236, -0.25049567,\n",
       "         -0.03962252,  0.29145068,  0.10332477, -0.20459945, -0.20228237,\n",
       "         -0.20528767,  0.07160291, -0.23648912,  0.04404098,  0.06213775,\n",
       "         -0.24355352,  0.29068595, -0.04829821,  0.17611286, -0.16110215,\n",
       "          0.01205009,  0.01396126,  0.03841552,  0.04218173,  0.0038788 ,\n",
       "          0.10649681, -0.28344706,  0.13218111,  0.09246719]],\n",
       "       dtype=float32)>,\n",
       " <tf.Variable 'dense_2/bias:0' shape=(64,) dtype=float32, numpy=\n",
       " array([0., 0., 0., 0., 0., 0., 0., 0., 0., 0., 0., 0., 0., 0., 0., 0., 0.,\n",
       "        0., 0., 0., 0., 0., 0., 0., 0., 0., 0., 0., 0., 0., 0., 0., 0., 0.,\n",
       "        0., 0., 0., 0., 0., 0., 0., 0., 0., 0., 0., 0., 0., 0., 0., 0., 0.,\n",
       "        0., 0., 0., 0., 0., 0., 0., 0., 0., 0., 0., 0., 0.], dtype=float32)>,\n",
       " <tf.Variable 'dense_3/kernel:0' shape=(64, 10) dtype=float32, numpy=\n",
       " array([[ 0.22078189,  0.0925751 ,  0.04713008, -0.26027516, -0.22365537,\n",
       "          0.27725992,  0.10786819,  0.2084809 ,  0.2295433 ,  0.1431118 ],\n",
       "        [ 0.22307178,  0.05763489, -0.22467996,  0.08962858,  0.0411467 ,\n",
       "          0.22619936,  0.12788501, -0.08815016,  0.09949294,  0.2631996 ],\n",
       "        [ 0.17520511,  0.02967784,  0.22767934,  0.26406893,  0.06052074,\n",
       "         -0.16793671, -0.11964478,  0.18477184, -0.05893016, -0.03919093],\n",
       "        [ 0.1192604 , -0.1320976 , -0.2843638 ,  0.14456332,  0.18092647,\n",
       "         -0.04845271, -0.20911449, -0.19991112, -0.15460975,  0.21898857],\n",
       "        [-0.25046068, -0.08262819, -0.18266186,  0.0907782 ,  0.15519631,\n",
       "          0.11113557,  0.07899776,  0.04644549, -0.24961486, -0.08195561],\n",
       "        [-0.24218237,  0.18369722, -0.2324407 ,  0.18128118,  0.20096081,\n",
       "          0.11976683, -0.19480348,  0.02124697, -0.05032229, -0.00144041],\n",
       "        [ 0.11235723, -0.02884322,  0.07531863, -0.09775069, -0.11049753,\n",
       "         -0.03931211, -0.09782502, -0.1361074 ,  0.25301203, -0.03306225],\n",
       "        [ 0.1333057 ,  0.14194626,  0.01008961, -0.0342584 ,  0.03562525,\n",
       "         -0.2246805 ,  0.01443151,  0.02015233,  0.11768535,  0.01870805],\n",
       "        [ 0.07049236,  0.00832042, -0.07509862,  0.05232149,  0.07887611,\n",
       "         -0.16458707, -0.00527811, -0.03472391,  0.04404807,  0.20668373],\n",
       "        [ 0.15331945,  0.26706997,  0.25806496,  0.21381575, -0.11539213,\n",
       "         -0.2163159 ,  0.26083747, -0.09290558, -0.08632313, -0.19337855],\n",
       "        [-0.21721536, -0.16134211,  0.03766242,  0.00212234,  0.0375064 ,\n",
       "          0.24225757,  0.22382417, -0.17191888, -0.19357835,  0.08584777],\n",
       "        [-0.12316816,  0.25478926,  0.18336001, -0.28203556, -0.27557552,\n",
       "          0.00771457, -0.12130846,  0.23339763, -0.09171127, -0.16020557],\n",
       "        [-0.23438042,  0.02350101,  0.27379045,  0.26378313,  0.2302827 ,\n",
       "          0.00305855, -0.25513032,  0.21452734, -0.17834736, -0.06233004],\n",
       "        [-0.02454421,  0.20166156, -0.10476872, -0.1144051 , -0.01081526,\n",
       "         -0.07793944, -0.23659171, -0.2597799 ,  0.11180401, -0.03600572],\n",
       "        [ 0.12939012, -0.20303938,  0.1322923 ,  0.2805824 ,  0.00488162,\n",
       "         -0.23418084,  0.06177288,  0.13774657,  0.17181337,  0.12978503],\n",
       "        [-0.08743833, -0.12015916,  0.13961217, -0.16944847, -0.28028777,\n",
       "          0.21757063, -0.27587742, -0.17031771,  0.07730433,  0.21050742],\n",
       "        [ 0.00678986,  0.20271152, -0.19050011, -0.18241188, -0.08700535,\n",
       "          0.07163459,  0.12464052, -0.09494476, -0.04231654,  0.16792375],\n",
       "        [ 0.10003686,  0.10219479,  0.2038869 , -0.02848151,  0.18271244,\n",
       "         -0.22043003,  0.24120244, -0.24746522,  0.14234164,  0.27105102],\n",
       "        [ 0.15603828, -0.23519292, -0.08485278,  0.24903014, -0.26990187,\n",
       "          0.10492569,  0.1882703 ,  0.18381372, -0.168904  ,  0.24273863],\n",
       "        [-0.04918875, -0.21433598,  0.26970062, -0.17489731,  0.10909224,\n",
       "         -0.07310709,  0.13822806,  0.18402731, -0.20665291, -0.22175944],\n",
       "        [ 0.22355577, -0.22054945, -0.03146026,  0.28462884, -0.20020147,\n",
       "          0.01963934,  0.1461801 ,  0.24389872,  0.07832125, -0.07591736],\n",
       "        [-0.280306  ,  0.11372566,  0.08314633, -0.21643585, -0.2450335 ,\n",
       "          0.15228957,  0.01369858,  0.05122229,  0.05407581,  0.21928558],\n",
       "        [ 0.15045929,  0.25020167,  0.2783232 , -0.24885614, -0.11698699,\n",
       "          0.03404045,  0.21660212, -0.16334565,  0.17585394,  0.02572772],\n",
       "        [-0.13838786,  0.25517073,  0.13800183,  0.17062601, -0.24783394,\n",
       "         -0.04597501,  0.12072504, -0.12396924, -0.19269891, -0.02387747],\n",
       "        [-0.01483682,  0.18379655,  0.01318875, -0.23598383,  0.0454385 ,\n",
       "          0.2821041 ,  0.1190885 ,  0.12339544,  0.24468592, -0.16636446],\n",
       "        [-0.20011431, -0.24598728, -0.12460822,  0.12500808, -0.2596004 ,\n",
       "          0.18791592, -0.22494969, -0.01934186,  0.08054224, -0.22718072],\n",
       "        [-0.188083  , -0.23750135,  0.12341723,  0.17118332, -0.06815927,\n",
       "         -0.20030227, -0.02175227, -0.11918524,  0.06218076, -0.22989234],\n",
       "        [ 0.01161873, -0.10870065, -0.09832971, -0.13498071,  0.21471831,\n",
       "          0.16415522, -0.18727988,  0.00271958,  0.01168385,  0.09871709],\n",
       "        [-0.24528022, -0.1715774 , -0.2783492 ,  0.26730648, -0.15558341,\n",
       "         -0.08472027, -0.09870358,  0.216889  , -0.15427724, -0.0186578 ],\n",
       "        [ 0.07715675, -0.20566112, -0.01090136,  0.03366557,  0.16603515,\n",
       "         -0.17987765,  0.12492418, -0.04887979,  0.0708569 , -0.27608305],\n",
       "        [ 0.24401549, -0.05663958, -0.19554597,  0.10007751, -0.16368991,\n",
       "         -0.05109474, -0.14993118,  0.12361473,  0.09305012,  0.05581629],\n",
       "        [-0.18633527,  0.13734746, -0.1922254 , -0.19951566,  0.08238575,\n",
       "          0.08840561, -0.16848749, -0.049539  ,  0.24923965, -0.18365154],\n",
       "        [-0.11497048, -0.08935057,  0.11063591,  0.15834534,  0.23031923,\n",
       "         -0.18626364,  0.26932195,  0.03760457, -0.06604174,  0.16647005],\n",
       "        [-0.18934017,  0.15951386,  0.25004616, -0.20621046, -0.04959473,\n",
       "          0.08369589, -0.245768  ,  0.11163828,  0.07281286,  0.03910953],\n",
       "        [ 0.08515313,  0.08868635, -0.261995  ,  0.0899497 , -0.04413651,\n",
       "         -0.25379813,  0.25746366,  0.22244433, -0.11251304, -0.21388817],\n",
       "        [-0.19632012, -0.08932036,  0.16856965,  0.12907103,  0.23130152,\n",
       "          0.02336749, -0.19489574, -0.21553652, -0.20187628, -0.07204646],\n",
       "        [-0.05270629, -0.16019389,  0.09227422,  0.01089334,  0.17274883,\n",
       "          0.21969977, -0.20925325,  0.2797725 , -0.1009184 , -0.13419877],\n",
       "        [-0.00327986,  0.07794514,  0.2131938 , -0.07685721, -0.07986002,\n",
       "         -0.12738556, -0.07822566,  0.07369807,  0.18248683, -0.01110774],\n",
       "        [ 0.21161288, -0.2573274 ,  0.23105845,  0.08870855,  0.09829903,\n",
       "         -0.28459802,  0.2169505 , -0.18902054,  0.23173216, -0.05057497],\n",
       "        [ 0.13871747, -0.1691325 ,  0.2827337 , -0.11048417,  0.0211277 ,\n",
       "          0.07940304,  0.26769647, -0.24569686, -0.26035532, -0.17169648],\n",
       "        [ 0.20045957,  0.01537782, -0.03450808, -0.20267344, -0.25933447,\n",
       "         -0.02468678, -0.2258979 , -0.19541651, -0.23880035, -0.06301117],\n",
       "        [-0.1074893 , -0.09704587, -0.19964607, -0.1327378 , -0.09990135,\n",
       "          0.17163849,  0.02989697,  0.10632733,  0.1573349 ,  0.15716529],\n",
       "        [ 0.09230706,  0.17763364,  0.07933882, -0.1492552 , -0.21214506,\n",
       "          0.2600712 ,  0.14162719,  0.14083058, -0.23350662,  0.19991893],\n",
       "        [ 0.1474548 ,  0.02657232, -0.1054713 , -0.226441  ,  0.25495914,\n",
       "          0.00497043, -0.10337815,  0.04040655, -0.11785161, -0.01232636],\n",
       "        [-0.16202602, -0.11091125, -0.06173384,  0.05352232,  0.2513837 ,\n",
       "         -0.01758191, -0.19014995, -0.27261642, -0.27159068, -0.24501769],\n",
       "        [-0.11597401,  0.19105184,  0.05237499,  0.26983264, -0.22281688,\n",
       "          0.13490888, -0.10967337, -0.16306506, -0.23560303,  0.22078666],\n",
       "        [-0.25286886, -0.24107876,  0.22332117,  0.19513166,  0.1589776 ,\n",
       "          0.06802648, -0.0243749 ,  0.02614966,  0.19507891, -0.17531916],\n",
       "        [-0.2729294 ,  0.2538903 , -0.2499797 ,  0.10883847,  0.257345  ,\n",
       "         -0.00481015, -0.15023015,  0.25937125, -0.25057212, -0.00922808],\n",
       "        [ 0.26743892,  0.28059742, -0.19640246,  0.15663761, -0.1897957 ,\n",
       "         -0.18913569,  0.14824718,  0.11102226,  0.26660797, -0.07351877],\n",
       "        [ 0.07538593, -0.16133735,  0.13243243, -0.04257798, -0.20547706,\n",
       "         -0.1360831 , -0.04426652,  0.11725271,  0.13333637, -0.03292286],\n",
       "        [ 0.19523036, -0.09099592,  0.18450537, -0.19617076,  0.11854416,\n",
       "          0.04096508, -0.26154482, -0.2585334 ,  0.04107153, -0.15444437],\n",
       "        [-0.1921744 ,  0.13911155,  0.04473943,  0.2459766 , -0.08963923,\n",
       "         -0.01974308,  0.08563501, -0.01856759,  0.2591252 , -0.2150368 ],\n",
       "        [-0.0877433 , -0.19580321,  0.12275559,  0.07424688,  0.09950989,\n",
       "         -0.03809534, -0.13501845,  0.23691192,  0.2748783 , -0.05245931],\n",
       "        [ 0.22599337,  0.04857638,  0.05545491,  0.0643031 ,  0.01405683,\n",
       "          0.27190992, -0.20126054,  0.11117628, -0.24577004,  0.06381369],\n",
       "        [ 0.1493442 , -0.2799961 , -0.13150133, -0.12516218, -0.00549591,\n",
       "          0.1860278 , -0.07953931,  0.25119165, -0.2062265 , -0.17340288],\n",
       "        [-0.00114569,  0.00763392, -0.20457605, -0.05242503, -0.16890053,\n",
       "          0.0484874 , -0.01506582,  0.1209915 , -0.05431424, -0.26100597],\n",
       "        [ 0.23628703,  0.12329611,  0.16268426,  0.2329863 , -0.09461319,\n",
       "         -0.10022245,  0.06674004, -0.17165813,  0.1595391 ,  0.27886268],\n",
       "        [-0.02379933, -0.10686065, -0.14781216,  0.13180405,  0.27237836,\n",
       "          0.01627633,  0.12056059, -0.06074178,  0.0033747 , -0.04825854],\n",
       "        [ 0.03299409,  0.12299442, -0.15265685, -0.23666951, -0.10712542,\n",
       "         -0.229799  , -0.27362663, -0.15687528, -0.22119501,  0.13423026],\n",
       "        [ 0.16996172, -0.08511165, -0.27876744, -0.18051663,  0.17717025,\n",
       "         -0.2343817 , -0.26771015,  0.04587081,  0.23320112, -0.08556704],\n",
       "        [ 0.08659428,  0.10317209, -0.28203422, -0.01748422,  0.13402301,\n",
       "          0.15336427, -0.10285784,  0.15727502,  0.10963482, -0.09953916],\n",
       "        [-0.15020762, -0.27781728, -0.16797589, -0.01176748, -0.03538284,\n",
       "          0.14183071,  0.09125119,  0.27690402,  0.04521126,  0.00228772],\n",
       "        [-0.2549648 , -0.21691018, -0.09572902, -0.16438577, -0.12631387,\n",
       "         -0.01190665,  0.26021114,  0.01328602,  0.20213807,  0.11570022],\n",
       "        [-0.18628237,  0.00734994, -0.04420067,  0.23084477, -0.13680734,\n",
       "          0.06339067, -0.164135  ,  0.15486032,  0.20076787, -0.19000262]],\n",
       "       dtype=float32)>,\n",
       " <tf.Variable 'dense_3/bias:0' shape=(10,) dtype=float32, numpy=array([0., 0., 0., 0., 0., 0., 0., 0., 0., 0.], dtype=float32)>]"
      ]
     },
     "execution_count": 4,
     "metadata": {},
     "output_type": "execute_result"
    }
   ],
   "source": [
    "model.build(input_shape=(None, 3))\n",
    "model.weights"
   ]
  },
  {
   "cell_type": "code",
   "execution_count": 5,
   "metadata": {},
   "outputs": [
    {
     "name": "stdout",
     "output_type": "stream",
     "text": [
      "Model: \"sequential_1\"\n",
      "_________________________________________________________________\n",
      " Layer (type)                Output Shape              Param #   \n",
      "=================================================================\n",
      " dense_2 (Dense)             (None, 64)                256       \n",
      "                                                                 \n",
      " dense_3 (Dense)             (None, 10)                650       \n",
      "                                                                 \n",
      "=================================================================\n",
      "Total params: 906\n",
      "Trainable params: 906\n",
      "Non-trainable params: 0\n",
      "_________________________________________________________________\n"
     ]
    }
   ],
   "source": [
    "model.summary()"
   ]
  },
  {
   "cell_type": "code",
   "execution_count": 6,
   "metadata": {},
   "outputs": [
    {
     "name": "stdout",
     "output_type": "stream",
     "text": [
      "Model: \"my_example_model\"\n",
      "_________________________________________________________________\n",
      " Layer (type)                Output Shape              Param #   \n",
      "=================================================================\n",
      " my_first_layer (Dense)      (None, 64)                256       \n",
      "                                                                 \n",
      " my_last_layer (Dense)       (None, 10)                650       \n",
      "                                                                 \n",
      "=================================================================\n",
      "Total params: 906\n",
      "Trainable params: 906\n",
      "Non-trainable params: 0\n",
      "_________________________________________________________________\n"
     ]
    }
   ],
   "source": [
    "model = keras.Sequential(name=\"my_example_model\")\n",
    "model.add(layers.Dense(64, activation=\"relu\", name=\"my_first_layer\"))\n",
    "model.add(layers.Dense(10, activation=\"softmax\", name=\"my_last_layer\"))\n",
    "model.build((None,3))\n",
    "model.summary()"
   ]
  },
  {
   "cell_type": "code",
   "execution_count": 7,
   "metadata": {},
   "outputs": [
    {
     "name": "stdout",
     "output_type": "stream",
     "text": [
      "Model: \"sequential_2\"\n",
      "_________________________________________________________________\n",
      " Layer (type)                Output Shape              Param #   \n",
      "=================================================================\n",
      " dense_4 (Dense)             (None, 64)                256       \n",
      "                                                                 \n",
      "=================================================================\n",
      "Total params: 256\n",
      "Trainable params: 256\n",
      "Non-trainable params: 0\n",
      "_________________________________________________________________\n"
     ]
    }
   ],
   "source": [
    "model=keras.Sequential()\n",
    "model.add(keras.Input(shape=(3,)))\n",
    "model.add(layers.Dense(64, activation=\"relu\"))\n",
    "model.summary()"
   ]
  },
  {
   "cell_type": "code",
   "execution_count": 8,
   "metadata": {},
   "outputs": [
    {
     "name": "stdout",
     "output_type": "stream",
     "text": [
      "Model: \"sequential_2\"\n",
      "_________________________________________________________________\n",
      " Layer (type)                Output Shape              Param #   \n",
      "=================================================================\n",
      " dense_4 (Dense)             (None, 64)                256       \n",
      "                                                                 \n",
      " dense_5 (Dense)             (None, 10)                650       \n",
      "                                                                 \n",
      "=================================================================\n",
      "Total params: 906\n",
      "Trainable params: 906\n",
      "Non-trainable params: 0\n",
      "_________________________________________________________________\n"
     ]
    }
   ],
   "source": [
    "model.add(layers.Dense(10, activation=\"softmax\"))\n",
    "model.summary()"
   ]
  },
  {
   "cell_type": "code",
   "execution_count": 9,
   "metadata": {},
   "outputs": [
    {
     "data": {
      "text/plain": [
       "TensorShape([None, 3])"
      ]
     },
     "execution_count": 9,
     "metadata": {},
     "output_type": "execute_result"
    }
   ],
   "source": [
    "inputs = keras.Input(shape=(3,), name=\"my_input\")\n",
    "inputs.shape"
   ]
  },
  {
   "cell_type": "code",
   "execution_count": 10,
   "metadata": {},
   "outputs": [
    {
     "data": {
      "text/plain": [
       "tf.float32"
      ]
     },
     "execution_count": 10,
     "metadata": {},
     "output_type": "execute_result"
    }
   ],
   "source": [
    "inputs.dtype"
   ]
  },
  {
   "cell_type": "code",
   "execution_count": 11,
   "metadata": {},
   "outputs": [],
   "source": [
    "features=layers.Dense(64, activation=\"relu\")(inputs)"
   ]
  },
  {
   "cell_type": "code",
   "execution_count": 12,
   "metadata": {},
   "outputs": [
    {
     "data": {
      "text/plain": [
       "TensorShape([None, 64])"
      ]
     },
     "execution_count": 12,
     "metadata": {},
     "output_type": "execute_result"
    }
   ],
   "source": [
    "features.shape"
   ]
  },
  {
   "cell_type": "code",
   "execution_count": 13,
   "metadata": {},
   "outputs": [],
   "source": [
    "outputs = layers.Dense(10, activation=\"softmax\")(features)"
   ]
  },
  {
   "cell_type": "code",
   "execution_count": 14,
   "metadata": {},
   "outputs": [
    {
     "data": {
      "text/plain": [
       "TensorShape([None, 10])"
      ]
     },
     "execution_count": 14,
     "metadata": {},
     "output_type": "execute_result"
    }
   ],
   "source": [
    "outputs.shape"
   ]
  },
  {
   "cell_type": "code",
   "execution_count": 15,
   "metadata": {},
   "outputs": [],
   "source": [
    "model = keras.Model(inputs = inputs, outputs = outputs)"
   ]
  },
  {
   "cell_type": "code",
   "execution_count": 16,
   "metadata": {},
   "outputs": [
    {
     "name": "stdout",
     "output_type": "stream",
     "text": [
      "Model: \"model\"\n",
      "_________________________________________________________________\n",
      " Layer (type)                Output Shape              Param #   \n",
      "=================================================================\n",
      " my_input (InputLayer)       [(None, 3)]               0         \n",
      "                                                                 \n",
      " dense_6 (Dense)             (None, 64)                256       \n",
      "                                                                 \n",
      " dense_7 (Dense)             (None, 10)                650       \n",
      "                                                                 \n",
      "=================================================================\n",
      "Total params: 906\n",
      "Trainable params: 906\n",
      "Non-trainable params: 0\n",
      "_________________________________________________________________\n"
     ]
    }
   ],
   "source": [
    "model.summary()"
   ]
  },
  {
   "cell_type": "code",
   "execution_count": 17,
   "metadata": {},
   "outputs": [],
   "source": [
    "vocabulary_size=10000\n",
    "num_tags=100\n",
    "num_departments=4\n",
    "\n",
    "title = keras.Input(shape=(vocabulary_size,), name=\"title\")\n",
    "text_body=keras.Input(shape=(vocabulary_size,), name=\"text_body\")\n",
    "tags = keras.Input(shape=(num_tags,), name=\"tags\")\n",
    "\n",
    "features=layers.Dense(64, activation=\"relu\")(layers.Concatenate()([title, text_body, tags]))"
   ]
  },
  {
   "cell_type": "code",
   "execution_count": 18,
   "metadata": {},
   "outputs": [],
   "source": [
    "priority=layers.Dense(1, activation=\"sigmoid\", name=\"priority\")(features)"
   ]
  },
  {
   "cell_type": "code",
   "execution_count": 19,
   "metadata": {},
   "outputs": [],
   "source": [
    "department = layers.Dense(num_departments, activation=\"softmax\", name=\"department\")(features)"
   ]
  },
  {
   "cell_type": "code",
   "execution_count": 20,
   "metadata": {},
   "outputs": [],
   "source": [
    "model=keras.Model(inputs=[title, text_body, tags],\n",
    "                  outputs=[priority, department])"
   ]
  },
  {
   "cell_type": "code",
   "execution_count": 21,
   "metadata": {},
   "outputs": [
    {
     "name": "stdout",
     "output_type": "stream",
     "text": [
      "Model: \"model_1\"\n",
      "__________________________________________________________________________________________________\n",
      " Layer (type)                   Output Shape         Param #     Connected to                     \n",
      "==================================================================================================\n",
      " title (InputLayer)             [(None, 10000)]      0           []                               \n",
      "                                                                                                  \n",
      " text_body (InputLayer)         [(None, 10000)]      0           []                               \n",
      "                                                                                                  \n",
      " tags (InputLayer)              [(None, 100)]        0           []                               \n",
      "                                                                                                  \n",
      " concatenate (Concatenate)      (None, 20100)        0           ['title[0][0]',                  \n",
      "                                                                  'text_body[0][0]',              \n",
      "                                                                  'tags[0][0]']                   \n",
      "                                                                                                  \n",
      " dense_8 (Dense)                (None, 64)           1286464     ['concatenate[0][0]']            \n",
      "                                                                                                  \n",
      " priority (Dense)               (None, 1)            65          ['dense_8[0][0]']                \n",
      "                                                                                                  \n",
      " department (Dense)             (None, 4)            260         ['dense_8[0][0]']                \n",
      "                                                                                                  \n",
      "==================================================================================================\n",
      "Total params: 1,286,789\n",
      "Trainable params: 1,286,789\n",
      "Non-trainable params: 0\n",
      "__________________________________________________________________________________________________\n"
     ]
    }
   ],
   "source": [
    "model.summary()"
   ]
  },
  {
   "cell_type": "code",
   "execution_count": 22,
   "metadata": {},
   "outputs": [
    {
     "name": "stdout",
     "output_type": "stream",
     "text": [
      "40/40 [==============================] - 2s 19ms/step - loss: 30.7139 - priority_loss: 0.3267 - department_loss: 30.3872 - priority_mean_absolute_error: 0.4960 - department_accuracy: 0.2719\n",
      "40/40 [==============================] - 1s 8ms/step - loss: 37.6358 - priority_loss: 0.3417 - department_loss: 37.2941 - priority_mean_absolute_error: 0.5116 - department_accuracy: 0.5289\n"
     ]
    },
    {
     "data": {
      "text/plain": [
       "[37.63581085205078,\n",
       " 0.34173154830932617,\n",
       " 37.29407501220703,\n",
       " 0.5115934014320374,\n",
       " 0.5289062261581421]"
      ]
     },
     "execution_count": 22,
     "metadata": {},
     "output_type": "execute_result"
    }
   ],
   "source": [
    "import numpy as np\n",
    "\n",
    "num_samples = 1280\n",
    "\n",
    "title_data = np.random.randint(0, 2, size=(num_samples, vocabulary_size))\n",
    "text_body_data = np.random.randint(0, 2, size=(num_samples, vocabulary_size))\n",
    "tags_data = np.random.randint(0, 2, size=(num_samples, num_tags))\n",
    "\n",
    "priority_data = np.random.random(size=(num_samples, 1))\n",
    "department_data = np.random.randint(0, 2, size=(num_samples, num_departments))\n",
    "\n",
    "model.compile(optimizer=\"rmsprop\",\n",
    "              loss=[\"mean_squared_error\", \"categorical_crossentropy\"],\n",
    "              metrics=[[\"mean_absolute_error\"], [\"accuracy\"]])\n",
    "model.fit([title_data, text_body_data, tags_data],\n",
    "          [priority_data, department_data],\n",
    "          epochs=1)\n",
    "\n",
    "model.evaluate([title_data, text_body_data, tags_data],\n",
    "               [priority_data, department_data])"
   ]
  },
  {
   "cell_type": "code",
   "execution_count": 23,
   "metadata": {},
   "outputs": [
    {
     "name": "stdout",
     "output_type": "stream",
     "text": [
      "40/40 [==============================] - 0s 7ms/step\n"
     ]
    }
   ],
   "source": [
    "priority_preds, department_preds = model.predict(\n",
    "[title_data, text_body_data, tags_data])"
   ]
  },
  {
   "cell_type": "code",
   "execution_count": 24,
   "metadata": {},
   "outputs": [
    {
     "name": "stdout",
     "output_type": "stream",
     "text": [
      "You must install pydot (`pip install pydot`) and install graphviz (see instructions at https://graphviz.gitlab.io/download/) for plot_model/model_to_dot to work.\n"
     ]
    }
   ],
   "source": [
    "keras.utils.plot_model(model, \"ticket_classifier.png\")"
   ]
  },
  {
   "cell_type": "code",
   "execution_count": 25,
   "metadata": {},
   "outputs": [
    {
     "name": "stdout",
     "output_type": "stream",
     "text": [
      "Requirement already satisfied: pydot in c:\\users\\japneet\\anaconda3\\lib\\site-packages (1.4.2)\n",
      "Requirement already satisfied: pyparsing>=2.1.4 in c:\\users\\japneet\\anaconda3\\lib\\site-packages (from pydot) (3.0.4)\n"
     ]
    }
   ],
   "source": [
    "!pip install pydot\n"
   ]
  },
  {
   "cell_type": "code",
   "execution_count": 26,
   "metadata": {},
   "outputs": [
    {
     "name": "stdout",
     "output_type": "stream",
     "text": [
      "Requirement already satisfied: graphviz in c:\\users\\japneet\\anaconda3\\lib\\site-packages (0.20)\n"
     ]
    }
   ],
   "source": [
    "!pip install graphviz"
   ]
  },
  {
   "cell_type": "code",
   "execution_count": 27,
   "metadata": {},
   "outputs": [
    {
     "name": "stdout",
     "output_type": "stream",
     "text": [
      "You must install pydot (`pip install pydot`) and install graphviz (see instructions at https://graphviz.gitlab.io/download/) for plot_model/model_to_dot to work.\n"
     ]
    }
   ],
   "source": [
    "keras.utils.plot_model(model, \"ticket_classifier.png\", show_shapes=True)"
   ]
  },
  {
   "cell_type": "code",
   "execution_count": 28,
   "metadata": {},
   "outputs": [
    {
     "data": {
      "text/plain": [
       "[<keras.engine.input_layer.InputLayer at 0x1f6f0a6d820>,\n",
       " <keras.engine.input_layer.InputLayer at 0x1f6f0a6de20>,\n",
       " <keras.engine.input_layer.InputLayer at 0x1f6f0a7d340>,\n",
       " <keras.layers.merging.concatenate.Concatenate at 0x1f6f0a77670>,\n",
       " <keras.layers.core.dense.Dense at 0x1f6f0a777c0>,\n",
       " <keras.layers.core.dense.Dense at 0x1f6f0a7d4c0>,\n",
       " <keras.layers.core.dense.Dense at 0x1f6f0a8aaf0>]"
      ]
     },
     "execution_count": 28,
     "metadata": {},
     "output_type": "execute_result"
    }
   ],
   "source": [
    "model.layers"
   ]
  },
  {
   "cell_type": "code",
   "execution_count": 29,
   "metadata": {},
   "outputs": [
    {
     "data": {
      "text/plain": [
       "<KerasTensor: shape=(None, 64) dtype=float32 (created by layer 'dense_8')>"
      ]
     },
     "execution_count": 29,
     "metadata": {},
     "output_type": "execute_result"
    }
   ],
   "source": [
    "model.layers[5].input"
   ]
  },
  {
   "cell_type": "code",
   "execution_count": 30,
   "metadata": {},
   "outputs": [],
   "source": [
    "features = model.layers[4].output\n",
    "difficulty = layers.Dense(3, activation=\"softmax\", name=\"difficulty\")(features)\n",
    "\n",
    "new_model = keras.Model(\n",
    "    inputs=[title, text_body, tags],\n",
    "    outputs=[priority, department, difficulty])"
   ]
  },
  {
   "cell_type": "code",
   "execution_count": 31,
   "metadata": {},
   "outputs": [
    {
     "name": "stdout",
     "output_type": "stream",
     "text": [
      "You must install pydot (`pip install pydot`) and install graphviz (see instructions at https://graphviz.gitlab.io/download/) for plot_model/model_to_dot to work.\n"
     ]
    }
   ],
   "source": [
    "keras.utils.plot_model(\n",
    "    new_model, \"updated_ticket_classifier.png\", show_shapes=True)"
   ]
  },
  {
   "cell_type": "code",
   "execution_count": 32,
   "metadata": {},
   "outputs": [],
   "source": [
    "class CustomerTicketModel(keras.Model):\n",
    "    def __init__(self, num_departments):\n",
    "        super().__init__()\n",
    "        self.concat_layer = layers.Concatenate()\n",
    "        self.mixing_layer = layers.Dense(64, activation=\"relu\")\n",
    "        self.priority_scorer = layers.Dense(1, activation=\"sigmoid\")\n",
    "        self.department_classifier = layers.Dense(\n",
    "            num_departments, activation=\"softmax\")\n",
    "        \n",
    "    def call(self, inputs):\n",
    "        title = inputs[\"title\"]\n",
    "        text_body = inputs[\"text_body\"]\n",
    "        tags = inputs[\"tags\"]\n",
    "        \n",
    "        features = self.concat_layer([title, text_body, tags])\n",
    "        features = self.mixing_layer(features)\n",
    "        \n",
    "        priority = self.priority_scorer(features)\n",
    "        department = self.department_classifier(features)\n",
    "        return priority, department\n",
    "    "
   ]
  },
  {
   "cell_type": "code",
   "execution_count": 33,
   "metadata": {},
   "outputs": [],
   "source": [
    "model = CustomerTicketModel(num_departments=4)\n",
    "priority, department = model({\n",
    "    \"title\": title_data, \"text_body\": text_body_data, \"tags\": tags_data\n",
    "})"
   ]
  },
  {
   "cell_type": "code",
   "execution_count": 34,
   "metadata": {},
   "outputs": [],
   "source": [
    "model.compile(\n",
    "    optimizer=\"rmsprop\", \n",
    "    loss=[\"mean_squared_error\", \"categorical_crossentropy\"], \n",
    "    metrics=[\"mean_absolute_error\", \"accuracy\"]\n",
    ")"
   ]
  },
  {
   "cell_type": "code",
   "execution_count": 35,
   "metadata": {},
   "outputs": [
    {
     "name": "stdout",
     "output_type": "stream",
     "text": [
      "40/40 [==============================] - 2s 20ms/step - loss: 22.2022 - output_1_loss: 0.3131 - output_2_loss: 21.8891 - output_1_mean_absolute_error: 0.4832 - output_1_accuracy: 0.0000e+00 - output_2_mean_absolute_error: 0.4966 - output_2_accuracy: 0.2016\n"
     ]
    },
    {
     "data": {
      "text/plain": [
       "<keras.callbacks.History at 0x1f68019d4f0>"
      ]
     },
     "execution_count": 35,
     "metadata": {},
     "output_type": "execute_result"
    }
   ],
   "source": [
    "model.fit({\n",
    "    \"title\": title_data,\n",
    "    \"text_body\": text_body_data,\n",
    "    \"tags\": tags_data\n",
    "    },\n",
    "    [priority_data, department_data],\n",
    "    epochs=1\n",
    ")\n",
    "\n"
   ]
  },
  {
   "cell_type": "code",
   "execution_count": 36,
   "metadata": {},
   "outputs": [
    {
     "name": "stdout",
     "output_type": "stream",
     "text": [
      "40/40 [==============================] - 1s 8ms/step - loss: 8.0588 - output_1_loss: 0.3185 - output_2_loss: 7.7402 - output_1_mean_absolute_error: 0.4884 - output_1_accuracy: 0.0000e+00 - output_2_mean_absolute_error: 0.4921 - output_2_accuracy: 0.5320\n"
     ]
    },
    {
     "data": {
      "text/plain": [
       "[8.05877685546875,\n",
       " 0.3185447156429291,\n",
       " 7.740232944488525,\n",
       " 0.48840659856796265,\n",
       " 0.0,\n",
       " 0.4920979142189026,\n",
       " 0.532031238079071]"
      ]
     },
     "execution_count": 36,
     "metadata": {},
     "output_type": "execute_result"
    }
   ],
   "source": [
    "model.evaluate({\n",
    "    \"title\": title_data,\n",
    "    \"text_body\": text_body_data,\n",
    "    \"tags\": tags_data\n",
    "    },\n",
    "    [priority_data, department_data]\n",
    ")"
   ]
  },
  {
   "cell_type": "code",
   "execution_count": 37,
   "metadata": {},
   "outputs": [
    {
     "name": "stdout",
     "output_type": "stream",
     "text": [
      "40/40 [==============================] - 0s 7ms/step\n"
     ]
    }
   ],
   "source": [
    "priority_preds, department_preds = model.predict({\n",
    "    \"title\": title_data,\n",
    "    \"text_body\": text_body_data,\n",
    "    \"tags\": tags_data\n",
    "    })"
   ]
  },
  {
   "cell_type": "code",
   "execution_count": 40,
   "metadata": {},
   "outputs": [],
   "source": [
    "from tensorflow.keras.datasets import mnist\n",
    "\n",
    "def get_mnist_model():\n",
    "    inputs = keras.Input(shape=(28*28,))\n",
    "    features = layers.Dense(512, activation=\"relu\")(inputs)\n",
    "    features = layers.Dropout(0.5)(features)\n",
    "    outputs = layers.Dense(10, activation=\"softmax\")(features)\n",
    "    model = keras.Model(inputs, outputs)\n",
    "    return model\n",
    "\n",
    "(images, labels), (test_images, test_labels) = mnist.load_data()\n",
    "images = images.reshape((60000, 28*28)).astype(\"float32\")/255\n",
    "test_images = test_images.reshape((10000, 28*28)).astype(\"float32\")/255\n",
    "train_images, val_images = images[10000:], images[:10000]\n",
    "train_labels, val_labels = labels[10000:], labels[:10000]"
   ]
  },
  {
   "cell_type": "code",
   "execution_count": 43,
   "metadata": {},
   "outputs": [
    {
     "name": "stdout",
     "output_type": "stream",
     "text": [
      "Epoch 1/10\n",
      "1563/1563 [==============================] - 16s 9ms/step - loss: 0.2938 - accuracy: 0.9131 - val_loss: 0.1530 - val_accuracy: 0.9565\n",
      "Epoch 2/10\n",
      "1563/1563 [==============================] - 14s 9ms/step - loss: 0.1635 - accuracy: 0.9536 - val_loss: 0.1163 - val_accuracy: 0.9673\n",
      "Epoch 3/10\n",
      "1563/1563 [==============================] - 14s 9ms/step - loss: 0.1385 - accuracy: 0.9632 - val_loss: 0.1156 - val_accuracy: 0.9702\n",
      "Epoch 4/10\n",
      "1563/1563 [==============================] - 14s 9ms/step - loss: 0.1266 - accuracy: 0.9674 - val_loss: 0.1075 - val_accuracy: 0.9741\n",
      "Epoch 5/10\n",
      "1563/1563 [==============================] - 14s 9ms/step - loss: 0.1171 - accuracy: 0.9707 - val_loss: 0.1101 - val_accuracy: 0.9738\n",
      "Epoch 6/10\n",
      "1563/1563 [==============================] - 14s 9ms/step - loss: 0.1122 - accuracy: 0.9731 - val_loss: 0.1036 - val_accuracy: 0.9755\n",
      "Epoch 7/10\n",
      "1563/1563 [==============================] - 14s 9ms/step - loss: 0.1060 - accuracy: 0.9751 - val_loss: 0.1097 - val_accuracy: 0.9764\n",
      "Epoch 8/10\n",
      "1563/1563 [==============================] - 14s 9ms/step - loss: 0.1026 - accuracy: 0.9760 - val_loss: 0.1084 - val_accuracy: 0.9782\n",
      "Epoch 9/10\n",
      "1563/1563 [==============================] - 15s 9ms/step - loss: 0.0967 - accuracy: 0.9783 - val_loss: 0.1077 - val_accuracy: 0.9786\n",
      "Epoch 10/10\n",
      "1563/1563 [==============================] - 15s 9ms/step - loss: 0.0929 - accuracy: 0.9788 - val_loss: 0.1195 - val_accuracy: 0.9782\n"
     ]
    },
    {
     "data": {
      "text/plain": [
       "<keras.callbacks.History at 0x1f68177a730>"
      ]
     },
     "execution_count": 43,
     "metadata": {},
     "output_type": "execute_result"
    }
   ],
   "source": [
    "model = get_mnist_model()\n",
    "model.compile(optimizer=\"rmsprop\",\n",
    "              loss = \"sparse_categorical_crossentropy\",\n",
    "              metrics = [\"accuracy\"])\n",
    "\n",
    "tensorboard = keras.callbacks.TensorBoard(\n",
    "    log_dir=\"c:\\\\temp\")\n",
    "model.fit(train_images, train_labels,\n",
    "          epochs=10,\n",
    "          validation_data=(val_images, val_labels),\n",
    "          callbacks=[tensorboard])\n"
   ]
  },
  {
   "cell_type": "code",
   "execution_count": 42,
   "metadata": {},
   "outputs": [
    {
     "data": {
      "text/plain": [
       "Reusing TensorBoard on port 6006 (pid 11356), started 0:14:10 ago. (Use '!kill 11356' to kill it.)"
      ]
     },
     "metadata": {},
     "output_type": "display_data"
    },
    {
     "data": {
      "text/html": [
       "\n",
       "      <iframe id=\"tensorboard-frame-8addceb908d75a8f\" width=\"100%\" height=\"800\" frameborder=\"0\">\n",
       "      </iframe>\n",
       "      <script>\n",
       "        (function() {\n",
       "          const frame = document.getElementById(\"tensorboard-frame-8addceb908d75a8f\");\n",
       "          const url = new URL(\"/\", window.location);\n",
       "          const port = 6006;\n",
       "          if (port) {\n",
       "            url.port = port;\n",
       "          }\n",
       "          frame.src = url;\n",
       "        })();\n",
       "      </script>\n",
       "    "
      ],
      "text/plain": [
       "<IPython.core.display.HTML object>"
      ]
     },
     "metadata": {},
     "output_type": "display_data"
    }
   ],
   "source": [
    "%load_ext tensorboard\n",
    "%tensorboard --logdir \"c:\\\\temp\"\n"
   ]
  },
  {
   "cell_type": "code",
   "execution_count": null,
   "metadata": {},
   "outputs": [],
   "source": []
  },
  {
   "cell_type": "code",
   "execution_count": null,
   "metadata": {},
   "outputs": [],
   "source": []
  },
  {
   "cell_type": "code",
   "execution_count": null,
   "metadata": {},
   "outputs": [],
   "source": []
  },
  {
   "cell_type": "code",
   "execution_count": null,
   "metadata": {},
   "outputs": [],
   "source": []
  }
 ],
 "metadata": {
  "kernelspec": {
   "display_name": "Python 3 (ipykernel)",
   "language": "python",
   "name": "python3"
  },
  "language_info": {
   "codemirror_mode": {
    "name": "ipython",
    "version": 3
   },
   "file_extension": ".py",
   "mimetype": "text/x-python",
   "name": "python",
   "nbconvert_exporter": "python",
   "pygments_lexer": "ipython3",
   "version": "3.9.12"
  }
 },
 "nbformat": 4,
 "nbformat_minor": 4
}
