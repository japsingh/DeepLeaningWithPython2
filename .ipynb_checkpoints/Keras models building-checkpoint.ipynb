{
 "cells": [
  {
   "cell_type": "code",
   "execution_count": 9,
   "metadata": {},
   "outputs": [
    {
     "name": "stdout",
     "output_type": "stream",
     "text": [
      "Requirement already satisfied: tensorflow in c:\\users\\japneet\\anaconda3\\lib\\site-packages (2.9.1)\n",
      "Requirement already satisfied: six>=1.12.0 in c:\\users\\japneet\\anaconda3\\lib\\site-packages (from tensorflow) (1.16.0)\n",
      "Requirement already satisfied: tensorflow-estimator<2.10.0,>=2.9.0rc0 in c:\\users\\japneet\\anaconda3\\lib\\site-packages (from tensorflow) (2.9.0)\n",
      "Requirement already satisfied: keras-preprocessing>=1.1.1 in c:\\users\\japneet\\anaconda3\\lib\\site-packages (from tensorflow) (1.1.2)\n",
      "Requirement already satisfied: h5py>=2.9.0 in c:\\users\\japneet\\anaconda3\\lib\\site-packages (from tensorflow) (3.6.0)\n",
      "Requirement already satisfied: packaging in c:\\users\\japneet\\anaconda3\\lib\\site-packages (from tensorflow) (21.3)\n",
      "Requirement already satisfied: tensorflow-io-gcs-filesystem>=0.23.1 in c:\\users\\japneet\\anaconda3\\lib\\site-packages (from tensorflow) (0.26.0)\n",
      "Requirement already satisfied: flatbuffers<2,>=1.12 in c:\\users\\japneet\\anaconda3\\lib\\site-packages (from tensorflow) (1.12)\n",
      "Requirement already satisfied: typing-extensions>=3.6.6 in c:\\users\\japneet\\anaconda3\\lib\\site-packages (from tensorflow) (4.1.1)\n",
      "Requirement already satisfied: wrapt>=1.11.0 in c:\\users\\japneet\\anaconda3\\lib\\site-packages (from tensorflow) (1.12.1)\n",
      "Requirement already satisfied: libclang>=13.0.0 in c:\\users\\japneet\\anaconda3\\lib\\site-packages (from tensorflow) (14.0.1)\n",
      "Requirement already satisfied: absl-py>=1.0.0 in c:\\users\\japneet\\anaconda3\\lib\\site-packages (from tensorflow) (1.0.0)\n",
      "Requirement already satisfied: setuptools in c:\\users\\japneet\\anaconda3\\lib\\site-packages (from tensorflow) (61.2.0)\n",
      "Requirement already satisfied: google-pasta>=0.1.1 in c:\\users\\japneet\\anaconda3\\lib\\site-packages (from tensorflow) (0.2.0)\n",
      "Requirement already satisfied: grpcio<2.0,>=1.24.3 in c:\\users\\japneet\\anaconda3\\lib\\site-packages (from tensorflow) (1.42.0)\n",
      "Requirement already satisfied: astunparse>=1.6.0 in c:\\users\\japneet\\anaconda3\\lib\\site-packages (from tensorflow) (1.6.3)\n",
      "Requirement already satisfied: numpy>=1.20 in c:\\users\\japneet\\anaconda3\\lib\\site-packages (from tensorflow) (1.21.5)\n",
      "Requirement already satisfied: keras<2.10.0,>=2.9.0rc0 in c:\\users\\japneet\\anaconda3\\lib\\site-packages (from tensorflow) (2.9.0)\n",
      "Requirement already satisfied: tensorboard<2.10,>=2.9 in c:\\users\\japneet\\anaconda3\\lib\\site-packages (from tensorflow) (2.9.0)\n",
      "Requirement already satisfied: gast<=0.4.0,>=0.2.1 in c:\\users\\japneet\\anaconda3\\lib\\site-packages (from tensorflow) (0.4.0)\n",
      "Requirement already satisfied: termcolor>=1.1.0 in c:\\users\\japneet\\anaconda3\\lib\\site-packages (from tensorflow) (1.1.0)\n",
      "Requirement already satisfied: opt-einsum>=2.3.2 in c:\\users\\japneet\\anaconda3\\lib\\site-packages (from tensorflow) (3.3.0)\n",
      "Requirement already satisfied: protobuf<3.20,>=3.9.2 in c:\\users\\japneet\\anaconda3\\lib\\site-packages (from tensorflow) (3.19.1)\n",
      "Requirement already satisfied: wheel<1.0,>=0.23.0 in c:\\users\\japneet\\anaconda3\\lib\\site-packages (from astunparse>=1.6.0->tensorflow) (0.37.1)\n",
      "Requirement already satisfied: markdown>=2.6.8 in c:\\users\\japneet\\anaconda3\\lib\\site-packages (from tensorboard<2.10,>=2.9->tensorflow) (3.3.4)\n",
      "Requirement already satisfied: tensorboard-data-server<0.7.0,>=0.6.0 in c:\\users\\japneet\\anaconda3\\lib\\site-packages (from tensorboard<2.10,>=2.9->tensorflow) (0.6.1)\n",
      "Requirement already satisfied: werkzeug>=1.0.1 in c:\\users\\japneet\\anaconda3\\lib\\site-packages (from tensorboard<2.10,>=2.9->tensorflow) (2.0.3)\n",
      "Requirement already satisfied: requests<3,>=2.21.0 in c:\\users\\japneet\\anaconda3\\lib\\site-packages (from tensorboard<2.10,>=2.9->tensorflow) (2.27.1)\n",
      "Requirement already satisfied: google-auth<3,>=1.6.3 in c:\\users\\japneet\\anaconda3\\lib\\site-packages (from tensorboard<2.10,>=2.9->tensorflow) (1.33.0)\n",
      "Requirement already satisfied: tensorboard-plugin-wit>=1.6.0 in c:\\users\\japneet\\anaconda3\\lib\\site-packages (from tensorboard<2.10,>=2.9->tensorflow) (1.8.1)\n",
      "Requirement already satisfied: google-auth-oauthlib<0.5,>=0.4.1 in c:\\users\\japneet\\anaconda3\\lib\\site-packages (from tensorboard<2.10,>=2.9->tensorflow) (0.4.6)\n",
      "Requirement already satisfied: rsa<5,>=3.1.4 in c:\\users\\japneet\\anaconda3\\lib\\site-packages (from google-auth<3,>=1.6.3->tensorboard<2.10,>=2.9->tensorflow) (4.7.2)\n",
      "Requirement already satisfied: cachetools<5.0,>=2.0.0 in c:\\users\\japneet\\anaconda3\\lib\\site-packages (from google-auth<3,>=1.6.3->tensorboard<2.10,>=2.9->tensorflow) (4.2.2)\n",
      "Requirement already satisfied: pyasn1-modules>=0.2.1 in c:\\users\\japneet\\anaconda3\\lib\\site-packages (from google-auth<3,>=1.6.3->tensorboard<2.10,>=2.9->tensorflow) (0.2.8)\n",
      "Requirement already satisfied: requests-oauthlib>=0.7.0 in c:\\users\\japneet\\anaconda3\\lib\\site-packages (from google-auth-oauthlib<0.5,>=0.4.1->tensorboard<2.10,>=2.9->tensorflow) (1.3.1)\n",
      "Requirement already satisfied: pyasn1<0.5.0,>=0.4.6 in c:\\users\\japneet\\anaconda3\\lib\\site-packages (from pyasn1-modules>=0.2.1->google-auth<3,>=1.6.3->tensorboard<2.10,>=2.9->tensorflow) (0.4.8)\n",
      "Requirement already satisfied: idna<4,>=2.5 in c:\\users\\japneet\\anaconda3\\lib\\site-packages (from requests<3,>=2.21.0->tensorboard<2.10,>=2.9->tensorflow) (3.3)\n",
      "Requirement already satisfied: urllib3<1.27,>=1.21.1 in c:\\users\\japneet\\anaconda3\\lib\\site-packages (from requests<3,>=2.21.0->tensorboard<2.10,>=2.9->tensorflow) (1.26.9)\n",
      "Requirement already satisfied: charset-normalizer~=2.0.0 in c:\\users\\japneet\\anaconda3\\lib\\site-packages (from requests<3,>=2.21.0->tensorboard<2.10,>=2.9->tensorflow) (2.0.4)\n",
      "Requirement already satisfied: certifi>=2017.4.17 in c:\\users\\japneet\\anaconda3\\lib\\site-packages (from requests<3,>=2.21.0->tensorboard<2.10,>=2.9->tensorflow) (2021.10.8)\n",
      "Requirement already satisfied: oauthlib>=3.0.0 in c:\\users\\japneet\\anaconda3\\lib\\site-packages (from requests-oauthlib>=0.7.0->google-auth-oauthlib<0.5,>=0.4.1->tensorboard<2.10,>=2.9->tensorflow) (3.2.0)\n",
      "Requirement already satisfied: pyparsing!=3.0.5,>=2.0.2 in c:\\users\\japneet\\anaconda3\\lib\\site-packages (from packaging->tensorflow) (3.0.4)\n"
     ]
    }
   ],
   "source": [
    "!pip install tensorflow\n",
    "\n",
    "from tensorflow import keras\n",
    "from tensorflow.keras import layers"
   ]
  },
  {
   "cell_type": "code",
   "execution_count": 10,
   "metadata": {},
   "outputs": [],
   "source": [
    "model = keras.Sequential([\n",
    "    layers.Dense(64, activation=\"relu\"),\n",
    "    layers.Dense(10, activation=\"softmax\")\n",
    "])\n"
   ]
  },
  {
   "cell_type": "code",
   "execution_count": 11,
   "metadata": {},
   "outputs": [],
   "source": [
    "model = keras.Sequential()\n",
    "model.add(layers.Dense(64, activation=\"relu\"))\n",
    "model.add(layers.Dense(10, activation=\"softmax\"))"
   ]
  },
  {
   "cell_type": "code",
   "execution_count": 12,
   "metadata": {},
   "outputs": [
    {
     "data": {
      "text/plain": [
       "[<tf.Variable 'dense_6/kernel:0' shape=(3, 64) dtype=float32, numpy=\n",
       " array([[-0.29653203, -0.08157608, -0.2468235 , -0.06464805,  0.28081012,\n",
       "          0.04875606, -0.24199763, -0.04840773,  0.09448054, -0.05127054,\n",
       "         -0.08696117, -0.11639649,  0.06075996, -0.02433646, -0.07420333,\n",
       "          0.18787554,  0.0468224 , -0.19190632, -0.01859984,  0.2720278 ,\n",
       "         -0.00079268, -0.05043294,  0.28882426,  0.22539759,  0.11563757,\n",
       "         -0.17436028, -0.282418  ,  0.12314722, -0.00687873, -0.27965766,\n",
       "         -0.21674064,  0.13013557, -0.22836336, -0.09647642,  0.09823185,\n",
       "          0.22381246,  0.24986982,  0.23596072, -0.2983589 , -0.0890259 ,\n",
       "          0.0239377 ,  0.06801772,  0.27701533,  0.05601093,  0.13417041,\n",
       "          0.04139435,  0.17959896,  0.20405132,  0.03920668, -0.23415112,\n",
       "         -0.29100618, -0.11344434, -0.1677717 , -0.16209187, -0.03665981,\n",
       "          0.18127826,  0.27436084, -0.0653872 , -0.22608644, -0.15346725,\n",
       "          0.2563985 ,  0.2832331 , -0.03229055,  0.07620889],\n",
       "        [ 0.23546469, -0.00789472, -0.03549144,  0.24597919, -0.0492557 ,\n",
       "         -0.02600607,  0.24106038, -0.00415426,  0.02833676, -0.26128155,\n",
       "         -0.09433772,  0.12247893, -0.02017248,  0.16354245, -0.28251034,\n",
       "          0.03503865, -0.24954127, -0.14408185,  0.2323345 ,  0.06409398,\n",
       "          0.15546483, -0.12827268, -0.12438704,  0.19035265, -0.1559652 ,\n",
       "         -0.22726654, -0.29253003,  0.06683171,  0.21922505, -0.07676177,\n",
       "          0.27514595,  0.23361295, -0.27400744,  0.1451585 ,  0.24265516,\n",
       "          0.24336755,  0.2655326 , -0.03647816, -0.03054741, -0.26972097,\n",
       "         -0.2629812 ,  0.12850785,  0.12209079,  0.06642815,  0.06756493,\n",
       "          0.157083  ,  0.280882  , -0.0963044 , -0.23914582, -0.09196384,\n",
       "         -0.21556455,  0.07082567,  0.08642271, -0.1472242 , -0.2727662 ,\n",
       "         -0.13912977, -0.20279458,  0.20552588,  0.07169232,  0.03414482,\n",
       "         -0.00565094,  0.14554161, -0.05698754, -0.05689244],\n",
       "        [-0.14411739, -0.08749214, -0.22321357,  0.20989066,  0.00757867,\n",
       "          0.25849974, -0.20481485,  0.07830274, -0.24889693, -0.29706943,\n",
       "         -0.16326918,  0.24207729,  0.02373609,  0.16412798,  0.10264912,\n",
       "          0.08669776,  0.06095019, -0.05065596,  0.26488203,  0.26876444,\n",
       "          0.1406466 , -0.06017756,  0.08194032, -0.27007857, -0.11221352,\n",
       "          0.27882075, -0.179499  ,  0.11380601,  0.02505136,  0.07167491,\n",
       "         -0.04126337,  0.23194152, -0.2523453 ,  0.04001677, -0.08813392,\n",
       "          0.2063244 , -0.13421144,  0.21957773,  0.28746343,  0.18082306,\n",
       "         -0.00357428,  0.01135516,  0.19277033,  0.11022186,  0.2063449 ,\n",
       "         -0.22457874,  0.12473935,  0.06881988,  0.00374204, -0.14400437,\n",
       "          0.14698568, -0.22500125,  0.04500911,  0.14668703, -0.2481938 ,\n",
       "         -0.16592729,  0.09036216,  0.14303234, -0.09700646,  0.18988085,\n",
       "         -0.26672393, -0.02458146, -0.13841122,  0.15398452]],\n",
       "       dtype=float32)>,\n",
       " <tf.Variable 'dense_6/bias:0' shape=(64,) dtype=float32, numpy=\n",
       " array([0., 0., 0., 0., 0., 0., 0., 0., 0., 0., 0., 0., 0., 0., 0., 0., 0.,\n",
       "        0., 0., 0., 0., 0., 0., 0., 0., 0., 0., 0., 0., 0., 0., 0., 0., 0.,\n",
       "        0., 0., 0., 0., 0., 0., 0., 0., 0., 0., 0., 0., 0., 0., 0., 0., 0.,\n",
       "        0., 0., 0., 0., 0., 0., 0., 0., 0., 0., 0., 0., 0.], dtype=float32)>,\n",
       " <tf.Variable 'dense_7/kernel:0' shape=(64, 10) dtype=float32, numpy=\n",
       " array([[ 1.38722003e-01,  1.26831114e-01, -1.67445868e-01,\n",
       "          1.08333230e-02,  2.62912542e-01,  2.14214444e-01,\n",
       "         -1.25032380e-01, -7.83355683e-02,  8.34552944e-02,\n",
       "          1.95169389e-01],\n",
       "        [ 2.59659857e-01,  8.74849856e-02, -2.10276812e-01,\n",
       "          1.41486377e-01,  3.93593609e-02, -2.62151867e-01,\n",
       "         -7.90494680e-03, -3.76742929e-02,  2.23376900e-01,\n",
       "         -2.02398360e-01],\n",
       "        [-2.08479658e-01,  1.34065509e-01,  2.77364820e-01,\n",
       "         -1.45184368e-01, -2.34054491e-01,  1.01744682e-01,\n",
       "         -3.67148817e-02,  1.98161602e-01,  2.03110367e-01,\n",
       "          5.84841967e-02],\n",
       "        [-1.15091041e-01,  2.11836845e-01, -3.86006385e-02,\n",
       "         -2.24451110e-01, -1.95994720e-01,  1.73256963e-01,\n",
       "         -1.06531247e-01, -6.14779592e-02, -3.80992740e-02,\n",
       "         -1.66643023e-01],\n",
       "        [-2.79680967e-01, -1.90191358e-01, -1.10089183e-01,\n",
       "          1.96363896e-01,  2.23697513e-01, -4.47970778e-02,\n",
       "         -2.50572562e-02,  1.92589074e-01, -2.39269257e-01,\n",
       "         -4.68943715e-02],\n",
       "        [ 7.83323050e-02,  6.26481771e-02, -2.21438795e-01,\n",
       "         -7.91869611e-02, -5.65528870e-02, -1.18533641e-01,\n",
       "          2.42304116e-01,  1.41999900e-01, -1.70982763e-01,\n",
       "         -2.22461686e-01],\n",
       "        [ 1.22755915e-01, -6.25900626e-02,  2.68016011e-01,\n",
       "         -5.41855991e-02,  4.25786674e-02,  1.88048780e-02,\n",
       "         -1.75247967e-01, -1.89164475e-01, -1.11415803e-01,\n",
       "         -2.51111388e-02],\n",
       "        [ 2.41138041e-02, -2.52442777e-01,  5.36639392e-02,\n",
       "         -2.11290956e-01, -5.80171794e-02, -2.50967085e-01,\n",
       "         -1.82613522e-01,  2.60816783e-01, -1.84419706e-01,\n",
       "          2.20910698e-01],\n",
       "        [-4.32795584e-02,  5.45457304e-02,  4.16364968e-02,\n",
       "         -1.59108415e-01, -2.63785154e-01,  1.74131393e-02,\n",
       "          2.04467773e-03,  2.51078695e-01, -7.10325986e-02,\n",
       "         -3.43192220e-02],\n",
       "        [ 5.10617495e-02, -8.69238675e-02, -2.17563361e-01,\n",
       "         -1.75856039e-01,  5.47589958e-02,  1.07565939e-01,\n",
       "         -2.57034659e-01, -1.27009511e-01,  1.77211583e-01,\n",
       "          7.81361759e-02],\n",
       "        [-9.65777636e-02, -1.68398499e-01, -1.29081964e-01,\n",
       "          2.79321700e-01,  1.05622411e-01,  8.56601298e-02,\n",
       "          9.40843225e-02, -2.68136978e-01,  1.47620738e-02,\n",
       "          2.39854604e-01],\n",
       "        [-9.23286527e-02,  2.81362504e-01, -1.05649650e-01,\n",
       "          2.44169742e-01, -2.68499166e-01, -1.06611773e-01,\n",
       "          1.00680590e-01,  8.05925429e-02,  6.73893094e-03,\n",
       "         -3.01659107e-02],\n",
       "        [-1.65604591e-01,  1.36583507e-01,  1.10664070e-02,\n",
       "          2.37997025e-01,  2.02452540e-02,  8.60059261e-03,\n",
       "          1.44927949e-01, -2.64395207e-01,  3.19332480e-02,\n",
       "          9.05402601e-02],\n",
       "        [-1.01346090e-01,  1.94870204e-01, -4.43166941e-02,\n",
       "          1.09990418e-01, -8.39966387e-02,  2.91400254e-02,\n",
       "          1.57607406e-01,  2.55876690e-01, -2.74434090e-02,\n",
       "          2.65111834e-01],\n",
       "        [-3.08605433e-02, -1.67323887e-01, -1.87502205e-01,\n",
       "         -2.15770200e-01, -8.53885561e-02, -4.34472412e-02,\n",
       "          8.21584761e-02, -1.47190392e-02,  1.90183431e-01,\n",
       "         -2.40111887e-01],\n",
       "        [ 1.57128781e-01,  2.51277089e-02, -6.13507330e-02,\n",
       "          1.59844130e-01,  2.10905552e-01,  1.50560439e-02,\n",
       "          2.53745645e-01,  2.75244117e-02, -1.61187455e-01,\n",
       "         -1.47061944e-02],\n",
       "        [ 1.69108212e-02, -1.21605277e-01, -1.32733583e-01,\n",
       "         -2.84586430e-01, -1.95073396e-01, -5.87514788e-02,\n",
       "          2.10953653e-02, -2.22868338e-01,  1.39059544e-01,\n",
       "         -1.96976185e-01],\n",
       "        [ 1.84757859e-01, -1.71229005e-01,  1.97956979e-01,\n",
       "         -1.76542059e-01, -1.16923988e-01,  2.04753906e-01,\n",
       "          1.25293761e-01,  2.60652572e-01,  1.38299048e-01,\n",
       "         -2.52926946e-02],\n",
       "        [-3.05795372e-02, -2.56160051e-01,  1.55368894e-01,\n",
       "         -9.14207846e-02, -1.97915509e-01,  1.69538766e-01,\n",
       "          1.03112102e-01, -7.20678419e-02,  9.59186852e-02,\n",
       "          2.79408246e-01],\n",
       "        [-2.10885108e-02, -1.05488881e-01, -2.61371762e-01,\n",
       "          2.38064855e-01, -9.66527164e-02, -2.42533684e-02,\n",
       "         -2.82034338e-01, -1.19667649e-01,  3.48023176e-02,\n",
       "         -1.98834926e-01],\n",
       "        [ 1.39239252e-01,  2.51528651e-01, -2.09144905e-01,\n",
       "         -1.51807219e-01,  1.66945994e-01, -2.38732696e-02,\n",
       "          2.35070556e-01, -1.86750680e-01,  2.34091371e-01,\n",
       "         -1.59727156e-01],\n",
       "        [-1.77952528e-01,  1.16819173e-01,  2.45774686e-02,\n",
       "         -4.50466424e-02, -2.41138846e-01,  2.35933453e-01,\n",
       "         -2.33944103e-01, -2.50780642e-01, -8.81874859e-02,\n",
       "          1.55256927e-01],\n",
       "        [ 4.43454087e-02,  1.52514219e-01, -7.95853436e-02,\n",
       "          1.22478247e-01,  2.74366140e-03,  6.06634915e-02,\n",
       "          2.72196621e-01,  1.38892263e-01,  2.03459114e-01,\n",
       "          1.48825616e-01],\n",
       "        [ 7.89238811e-02,  6.19527102e-02, -8.66700411e-02,\n",
       "         -2.33270302e-01, -1.93653017e-01, -2.14146227e-01,\n",
       "          2.40463287e-01,  1.79854840e-01,  2.74194151e-01,\n",
       "          1.42123729e-01],\n",
       "        [ 2.67415613e-01, -1.05647206e-01, -6.22596443e-02,\n",
       "          1.50391459e-01,  2.33185291e-03, -1.70010239e-01,\n",
       "         -1.19837239e-01,  3.29841077e-02, -5.45699745e-02,\n",
       "          1.35947585e-01],\n",
       "        [-1.22694969e-01,  2.47262120e-02, -2.80754238e-01,\n",
       "         -1.45258784e-01,  1.21206492e-01,  2.83684820e-01,\n",
       "         -1.52761936e-02, -7.93733895e-02, -2.08061039e-02,\n",
       "         -1.32523537e-01],\n",
       "        [ 2.25105137e-01,  2.21813053e-01, -5.75437993e-02,\n",
       "          2.38405854e-01, -5.76195121e-03, -1.51783735e-01,\n",
       "         -3.12289000e-02,  1.82755262e-01, -2.14395851e-01,\n",
       "         -2.40571231e-01],\n",
       "        [-2.94353962e-02,  1.27835333e-01,  2.22658545e-01,\n",
       "          1.94645435e-01, -1.96334645e-01,  5.96930981e-02,\n",
       "         -1.46477178e-01,  2.21624821e-01, -3.75030041e-02,\n",
       "         -2.45973021e-01],\n",
       "        [-3.46357226e-02, -1.28717273e-01, -2.05062807e-01,\n",
       "         -2.24887431e-02, -2.25406229e-01, -1.72544271e-01,\n",
       "         -2.20645040e-01,  1.81965232e-02, -1.93213910e-01,\n",
       "          1.38534218e-01],\n",
       "        [-8.91968608e-02, -2.07479119e-01, -2.02528432e-01,\n",
       "          1.95612431e-01,  2.29030162e-01,  2.77762920e-01,\n",
       "          1.96136415e-01, -5.86357266e-02, -1.75184488e-01,\n",
       "          2.16375977e-01],\n",
       "        [ 1.10786080e-01,  2.74103731e-01,  1.33519471e-02,\n",
       "          2.26254195e-01,  2.82663614e-01,  5.47524691e-02,\n",
       "         -2.39591300e-02,  2.13341594e-01,  2.44267315e-01,\n",
       "         -2.60020822e-01],\n",
       "        [ 2.15117246e-01, -1.47820711e-01, -9.25985873e-02,\n",
       "          6.89902902e-03,  1.13672704e-01,  6.94529712e-02,\n",
       "          9.12565589e-02, -9.43768024e-03,  2.42221266e-01,\n",
       "          7.33650625e-02],\n",
       "        [ 2.66952723e-01,  1.96717739e-01,  1.29671514e-01,\n",
       "          1.73490375e-01,  2.05826163e-02,  7.31583536e-02,\n",
       "         -1.07244775e-01,  2.73526758e-01,  3.67816985e-02,\n",
       "         -1.80791229e-01],\n",
       "        [ 2.47041553e-01, -2.33038932e-01, -4.54387665e-02,\n",
       "         -2.58223891e-01,  9.01412070e-02,  1.46962583e-01,\n",
       "          2.70579904e-01, -2.27855608e-01, -2.35999778e-01,\n",
       "         -1.69603825e-02],\n",
       "        [-1.42775938e-01, -7.78928697e-02,  1.81338489e-01,\n",
       "          1.92244112e-01,  1.22544736e-01,  1.64812207e-02,\n",
       "         -2.12168545e-01,  8.02251995e-02,  5.72204590e-05,\n",
       "         -9.38437432e-02],\n",
       "        [ 2.66439825e-01, -9.07516629e-02,  2.68889666e-02,\n",
       "         -7.59035051e-02,  2.75954515e-01, -1.67578608e-01,\n",
       "          3.96218300e-02, -8.46353322e-02,  4.62845266e-02,\n",
       "         -9.40256864e-02],\n",
       "        [-8.90766978e-02,  9.80542302e-02, -8.17645043e-02,\n",
       "          1.97916806e-01,  1.43791616e-01,  1.01026475e-01,\n",
       "          2.26987213e-01,  1.16952777e-01, -2.93704271e-02,\n",
       "         -2.47911811e-01],\n",
       "        [ 2.78785378e-01, -2.00601131e-01,  9.99676585e-02,\n",
       "         -9.30960029e-02, -5.30906767e-02,  2.68938810e-01,\n",
       "         -1.02485612e-01,  6.52330518e-02,  1.37336612e-01,\n",
       "         -4.62762415e-02],\n",
       "        [ 2.72053093e-01,  2.10000902e-01, -5.35859913e-02,\n",
       "         -2.77158558e-01,  2.17023522e-01, -2.63149709e-01,\n",
       "          2.39183038e-01,  1.02115542e-01,  1.61500007e-01,\n",
       "         -2.17942923e-01],\n",
       "        [ 1.70206666e-01, -2.45851636e-01, -9.40066576e-03,\n",
       "          2.35324770e-01, -1.09614506e-01,  1.97525084e-01,\n",
       "          5.73980808e-03, -1.51131153e-02, -9.15759057e-02,\n",
       "          1.11383885e-01],\n",
       "        [-2.07718894e-01,  1.23520494e-01,  6.57011271e-02,\n",
       "          2.17206091e-01,  7.27939606e-03,  2.48027831e-01,\n",
       "         -1.60881951e-01,  2.27855116e-01, -2.23841727e-01,\n",
       "         -2.40986377e-01],\n",
       "        [-2.44435340e-01, -5.88149428e-02, -6.39946759e-02,\n",
       "          6.16311133e-02,  1.28184736e-01, -1.92679435e-01,\n",
       "          1.17974967e-01, -1.74068123e-01,  2.51517981e-01,\n",
       "          1.03959292e-01],\n",
       "        [-2.27544606e-01, -2.24226713e-02, -1.02957845e-01,\n",
       "         -1.27481475e-01,  1.11062318e-01, -1.59559876e-01,\n",
       "         -4.07914817e-02,  3.82582843e-02, -5.19472212e-02,\n",
       "          2.59006917e-02],\n",
       "        [-5.99292815e-02, -1.62277758e-01, -9.70068276e-02,\n",
       "         -1.10793605e-01,  2.02321917e-01,  2.11703360e-01,\n",
       "          2.84481555e-01,  8.64692926e-02,  1.57834738e-01,\n",
       "         -7.01308250e-03],\n",
       "        [-2.60584801e-01,  6.46944940e-02, -1.89229846e-01,\n",
       "         -1.20320618e-01, -1.83242708e-01,  9.26515460e-03,\n",
       "          9.93115902e-02, -8.12998116e-02, -1.64577901e-01,\n",
       "         -1.92480654e-01],\n",
       "        [-1.16411492e-01, -1.13619626e-01, -2.67433703e-01,\n",
       "          1.27937496e-01, -1.57077387e-01, -2.40817726e-01,\n",
       "         -1.98572814e-01, -1.00877255e-01,  2.51653463e-01,\n",
       "          2.32694119e-01],\n",
       "        [ 4.20979559e-02, -1.79339498e-01, -2.78678775e-01,\n",
       "          2.32866138e-01, -1.62622154e-01,  7.23681748e-02,\n",
       "          2.44374126e-01,  2.31188387e-01, -1.40720263e-01,\n",
       "         -1.01665571e-01],\n",
       "        [ 1.97836488e-01, -3.82647961e-02,  2.03752071e-01,\n",
       "         -6.07997477e-02,  5.25149703e-03,  1.15391731e-01,\n",
       "         -1.39432266e-01,  3.21441889e-02,  1.17306113e-02,\n",
       "          1.34858042e-01],\n",
       "        [-1.91325098e-01,  2.20215589e-01,  2.61821538e-01,\n",
       "         -2.26075351e-02,  1.53629512e-01, -1.51278675e-02,\n",
       "          3.16188037e-02,  7.62501359e-02,  7.65939355e-02,\n",
       "          9.63727534e-02],\n",
       "        [-9.96623039e-02,  1.30357265e-01,  2.36690551e-01,\n",
       "          1.79303437e-01, -5.37562668e-02,  1.56058490e-01,\n",
       "         -2.49870539e-01,  2.08229840e-01, -3.01485062e-02,\n",
       "          1.58158451e-01],\n",
       "        [-2.60542899e-01, -2.59374529e-01, -2.18334764e-01,\n",
       "          7.55905509e-02,  2.65560657e-01,  2.09624618e-01,\n",
       "          1.18246526e-01, -1.18699417e-01, -2.14597553e-01,\n",
       "         -7.77037293e-02],\n",
       "        [ 2.61056155e-01, -5.11011183e-02, -2.37410456e-01,\n",
       "         -2.29282290e-01, -4.61361259e-02,  2.71470219e-01,\n",
       "          1.76944703e-01, -7.81042725e-02,  8.60978067e-02,\n",
       "          2.47295171e-01],\n",
       "        [-1.52518898e-01, -2.15403527e-01,  3.17849219e-02,\n",
       "         -1.51224136e-02,  2.42076606e-01,  5.91508746e-02,\n",
       "         -8.49311948e-02,  2.38758326e-02, -9.28173959e-02,\n",
       "          2.73066252e-01],\n",
       "        [-2.57877499e-01,  1.99360877e-01, -7.66910166e-02,\n",
       "         -5.93894273e-02, -5.73123544e-02, -2.38402992e-01,\n",
       "         -2.03946084e-01,  6.98658824e-03,  4.18255031e-02,\n",
       "          2.29151934e-01],\n",
       "        [ 5.25134206e-02, -1.89579874e-01,  2.82793671e-01,\n",
       "          2.81170011e-03, -1.21662363e-01,  1.02746993e-01,\n",
       "          2.06960917e-01, -3.20740640e-02, -3.31659913e-02,\n",
       "         -1.76726997e-01],\n",
       "        [ 9.43832397e-02, -1.18175924e-01, -2.49384582e-01,\n",
       "          8.59855115e-02,  1.00650847e-01,  4.77475226e-02,\n",
       "          1.87262893e-01, -1.85547680e-01, -2.79087424e-01,\n",
       "          7.51229227e-02],\n",
       "        [ 1.20411247e-01, -2.24749550e-01,  1.32836789e-01,\n",
       "          1.79170460e-01, -2.16243565e-02,  1.85238868e-01,\n",
       "         -8.53604078e-03,  2.05643535e-01, -1.06826231e-01,\n",
       "         -1.53207779e-01],\n",
       "        [-2.48857021e-01,  2.09291816e-01, -1.37854114e-01,\n",
       "         -1.16907969e-01,  2.88981497e-02, -9.16009545e-02,\n",
       "          5.09229898e-02, -2.52630234e-01,  1.60283983e-01,\n",
       "         -1.29910216e-01],\n",
       "        [ 4.96363342e-02,  1.03419632e-01, -1.45496860e-01,\n",
       "          3.02735567e-02, -2.67422378e-01, -2.05016643e-01,\n",
       "          1.44154906e-01,  2.89954245e-02,  1.65531337e-02,\n",
       "         -2.45708600e-01],\n",
       "        [-1.89112812e-01,  1.52867526e-01, -1.34599179e-01,\n",
       "          9.71024930e-02,  1.86016858e-02,  3.51515412e-03,\n",
       "          6.61834776e-02, -7.50377923e-02, -1.99491963e-01,\n",
       "          1.62261605e-01],\n",
       "        [-9.87244844e-02,  6.45082593e-02,  2.32130378e-01,\n",
       "         -4.71165031e-02,  2.05191314e-01,  1.81623340e-01,\n",
       "         -3.69085073e-02, -6.03895038e-02,  1.12849206e-01,\n",
       "         -7.66655654e-02],\n",
       "        [ 1.10394418e-01, -3.06828022e-02,  1.04366004e-01,\n",
       "          1.57177329e-01,  2.74847448e-02,  2.02155590e-01,\n",
       "         -2.63934582e-01,  8.99051428e-02, -2.48886049e-02,\n",
       "         -2.71023005e-01],\n",
       "        [ 1.41256779e-01, -2.56753147e-01,  8.79629254e-02,\n",
       "          3.69489789e-02, -8.42295587e-02, -1.13547593e-01,\n",
       "         -2.08990991e-01,  1.45647228e-01,  4.97527719e-02,\n",
       "          2.43285865e-01],\n",
       "        [ 2.66429156e-01,  2.54358679e-01,  1.80000961e-02,\n",
       "         -1.88416541e-01, -5.58503717e-02,  1.64795488e-01,\n",
       "          1.80675089e-01, -1.03024721e-01,  1.68640584e-01,\n",
       "          1.25010520e-01]], dtype=float32)>,\n",
       " <tf.Variable 'dense_7/bias:0' shape=(10,) dtype=float32, numpy=array([0., 0., 0., 0., 0., 0., 0., 0., 0., 0.], dtype=float32)>]"
      ]
     },
     "execution_count": 12,
     "metadata": {},
     "output_type": "execute_result"
    }
   ],
   "source": [
    "model.build(input_shape=(None, 3))\n",
    "model.weights"
   ]
  },
  {
   "cell_type": "code",
   "execution_count": 13,
   "metadata": {},
   "outputs": [
    {
     "name": "stdout",
     "output_type": "stream",
     "text": [
      "Model: \"sequential_3\"\n",
      "_________________________________________________________________\n",
      " Layer (type)                Output Shape              Param #   \n",
      "=================================================================\n",
      " dense_6 (Dense)             (None, 64)                256       \n",
      "                                                                 \n",
      " dense_7 (Dense)             (None, 10)                650       \n",
      "                                                                 \n",
      "=================================================================\n",
      "Total params: 906\n",
      "Trainable params: 906\n",
      "Non-trainable params: 0\n",
      "_________________________________________________________________\n"
     ]
    }
   ],
   "source": [
    "model.summary()"
   ]
  },
  {
   "cell_type": "code",
   "execution_count": 14,
   "metadata": {},
   "outputs": [
    {
     "name": "stdout",
     "output_type": "stream",
     "text": [
      "Model: \"my_example_model\"\n",
      "_________________________________________________________________\n",
      " Layer (type)                Output Shape              Param #   \n",
      "=================================================================\n",
      " my_first_layer (Dense)      (None, 64)                256       \n",
      "                                                                 \n",
      " my_last_layer (Dense)       (None, 10)                650       \n",
      "                                                                 \n",
      "=================================================================\n",
      "Total params: 906\n",
      "Trainable params: 906\n",
      "Non-trainable params: 0\n",
      "_________________________________________________________________\n"
     ]
    }
   ],
   "source": [
    "model = keras.Sequential(name=\"my_example_model\")\n",
    "model.add(layers.Dense(64, activation=\"relu\", name=\"my_first_layer\"))\n",
    "model.add(layers.Dense(10, activation=\"softmax\", name=\"my_last_layer\"))\n",
    "model.build((None,3))\n",
    "model.summary()"
   ]
  },
  {
   "cell_type": "code",
   "execution_count": 15,
   "metadata": {},
   "outputs": [
    {
     "name": "stdout",
     "output_type": "stream",
     "text": [
      "Model: \"sequential_4\"\n",
      "_________________________________________________________________\n",
      " Layer (type)                Output Shape              Param #   \n",
      "=================================================================\n",
      " dense_8 (Dense)             (None, 64)                256       \n",
      "                                                                 \n",
      "=================================================================\n",
      "Total params: 256\n",
      "Trainable params: 256\n",
      "Non-trainable params: 0\n",
      "_________________________________________________________________\n"
     ]
    }
   ],
   "source": [
    "model=keras.Sequential()\n",
    "model.add(keras.Input(shape=(3,)))\n",
    "model.add(layers.Dense(64, activation=\"relu\"))\n",
    "model.summary()"
   ]
  },
  {
   "cell_type": "code",
   "execution_count": 16,
   "metadata": {},
   "outputs": [
    {
     "name": "stdout",
     "output_type": "stream",
     "text": [
      "Model: \"sequential_4\"\n",
      "_________________________________________________________________\n",
      " Layer (type)                Output Shape              Param #   \n",
      "=================================================================\n",
      " dense_8 (Dense)             (None, 64)                256       \n",
      "                                                                 \n",
      " dense_9 (Dense)             (None, 10)                650       \n",
      "                                                                 \n",
      "=================================================================\n",
      "Total params: 906\n",
      "Trainable params: 906\n",
      "Non-trainable params: 0\n",
      "_________________________________________________________________\n"
     ]
    }
   ],
   "source": [
    "model.add(layers.Dense(10, activation=\"softmax\"))\n",
    "model.summary()"
   ]
  },
  {
   "cell_type": "code",
   "execution_count": 17,
   "metadata": {},
   "outputs": [
    {
     "data": {
      "text/plain": [
       "TensorShape([None, 3])"
      ]
     },
     "execution_count": 17,
     "metadata": {},
     "output_type": "execute_result"
    }
   ],
   "source": [
    "inputs = keras.Input(shape=(3,), name=\"my_input\")\n",
    "inputs.shape"
   ]
  },
  {
   "cell_type": "code",
   "execution_count": 18,
   "metadata": {},
   "outputs": [
    {
     "data": {
      "text/plain": [
       "tf.float32"
      ]
     },
     "execution_count": 18,
     "metadata": {},
     "output_type": "execute_result"
    }
   ],
   "source": [
    "inputs.dtype"
   ]
  },
  {
   "cell_type": "code",
   "execution_count": 19,
   "metadata": {},
   "outputs": [],
   "source": [
    "features=layers.Dense(64, activation=\"relu\")(inputs)"
   ]
  },
  {
   "cell_type": "code",
   "execution_count": 20,
   "metadata": {},
   "outputs": [
    {
     "data": {
      "text/plain": [
       "TensorShape([None, 64])"
      ]
     },
     "execution_count": 20,
     "metadata": {},
     "output_type": "execute_result"
    }
   ],
   "source": [
    "features.shape"
   ]
  },
  {
   "cell_type": "code",
   "execution_count": 21,
   "metadata": {},
   "outputs": [],
   "source": [
    "outputs = layers.Dense(10, activation=\"softmax\")(features)"
   ]
  },
  {
   "cell_type": "code",
   "execution_count": 22,
   "metadata": {},
   "outputs": [
    {
     "data": {
      "text/plain": [
       "TensorShape([None, 10])"
      ]
     },
     "execution_count": 22,
     "metadata": {},
     "output_type": "execute_result"
    }
   ],
   "source": [
    "outputs.shape"
   ]
  },
  {
   "cell_type": "code",
   "execution_count": 23,
   "metadata": {},
   "outputs": [],
   "source": [
    "model = keras.Model(inputs = inputs, outputs = outputs)"
   ]
  },
  {
   "cell_type": "code",
   "execution_count": 24,
   "metadata": {},
   "outputs": [
    {
     "name": "stdout",
     "output_type": "stream",
     "text": [
      "Model: \"model\"\n",
      "_________________________________________________________________\n",
      " Layer (type)                Output Shape              Param #   \n",
      "=================================================================\n",
      " my_input (InputLayer)       [(None, 3)]               0         \n",
      "                                                                 \n",
      " dense_10 (Dense)            (None, 64)                256       \n",
      "                                                                 \n",
      " dense_11 (Dense)            (None, 10)                650       \n",
      "                                                                 \n",
      "=================================================================\n",
      "Total params: 906\n",
      "Trainable params: 906\n",
      "Non-trainable params: 0\n",
      "_________________________________________________________________\n"
     ]
    }
   ],
   "source": [
    "model.summary()"
   ]
  },
  {
   "cell_type": "code",
   "execution_count": 25,
   "metadata": {},
   "outputs": [],
   "source": [
    "vocabulary_size=10000\n",
    "num_tags=100\n",
    "num_departments=4\n",
    "\n",
    "title = keras.Input(shape=(vocabulary_size,), name=\"title\")\n",
    "text_body=keras.Input(shape=(vocabulary_size,), name=\"text_body\")\n",
    "tags = keras.Input(shape=(num_tags,), name=\"tags\")\n",
    "\n",
    "features=layers.Dense(64, activation=\"relu\")(layers.Concatenate()([title, text_body, tags]))"
   ]
  },
  {
   "cell_type": "code",
   "execution_count": 26,
   "metadata": {},
   "outputs": [],
   "source": [
    "priority=layers.Dense(1, activation=\"sigmoid\", name=\"priority\")(features)"
   ]
  },
  {
   "cell_type": "code",
   "execution_count": 27,
   "metadata": {},
   "outputs": [],
   "source": [
    "department = layers.Dense(num_departments, activation=\"softmax\", name=\"department\")(features)"
   ]
  },
  {
   "cell_type": "code",
   "execution_count": 28,
   "metadata": {},
   "outputs": [],
   "source": [
    "model=keras.Model(inputs=[title, text_body, tags],\n",
    "                  outputs=[priority, department])"
   ]
  },
  {
   "cell_type": "code",
   "execution_count": 29,
   "metadata": {},
   "outputs": [
    {
     "name": "stdout",
     "output_type": "stream",
     "text": [
      "Model: \"model_1\"\n",
      "__________________________________________________________________________________________________\n",
      " Layer (type)                   Output Shape         Param #     Connected to                     \n",
      "==================================================================================================\n",
      " title (InputLayer)             [(None, 10000)]      0           []                               \n",
      "                                                                                                  \n",
      " text_body (InputLayer)         [(None, 10000)]      0           []                               \n",
      "                                                                                                  \n",
      " tags (InputLayer)              [(None, 100)]        0           []                               \n",
      "                                                                                                  \n",
      " concatenate (Concatenate)      (None, 20100)        0           ['title[0][0]',                  \n",
      "                                                                  'text_body[0][0]',              \n",
      "                                                                  'tags[0][0]']                   \n",
      "                                                                                                  \n",
      " dense_12 (Dense)               (None, 64)           1286464     ['concatenate[0][0]']            \n",
      "                                                                                                  \n",
      " priority (Dense)               (None, 1)            65          ['dense_12[0][0]']               \n",
      "                                                                                                  \n",
      " department (Dense)             (None, 4)            260         ['dense_12[0][0]']               \n",
      "                                                                                                  \n",
      "==================================================================================================\n",
      "Total params: 1,286,789\n",
      "Trainable params: 1,286,789\n",
      "Non-trainable params: 0\n",
      "__________________________________________________________________________________________________\n"
     ]
    }
   ],
   "source": [
    "model.summary()"
   ]
  },
  {
   "cell_type": "code",
   "execution_count": 30,
   "metadata": {},
   "outputs": [
    {
     "name": "stdout",
     "output_type": "stream",
     "text": [
      "40/40 [==============================] - 2s 20ms/step - loss: 21.6858 - priority_loss: 0.3303 - department_loss: 21.3555 - priority_mean_absolute_error: 0.4961 - department_accuracy: 0.2586\n",
      "40/40 [==============================] - 1s 7ms/step - loss: 26.2976 - priority_loss: 0.3358 - department_loss: 25.9618 - priority_mean_absolute_error: 0.5017 - department_accuracy: 0.1266\n"
     ]
    },
    {
     "data": {
      "text/plain": [
       "[26.29755210876465,\n",
       " 0.33575597405433655,\n",
       " 25.9617919921875,\n",
       " 0.5016707181930542,\n",
       " 0.12656250596046448]"
      ]
     },
     "execution_count": 30,
     "metadata": {},
     "output_type": "execute_result"
    }
   ],
   "source": [
    "import numpy as np\n",
    "\n",
    "num_samples = 1280\n",
    "\n",
    "title_data = np.random.randint(0, 2, size=(num_samples, vocabulary_size))\n",
    "text_body_data = np.random.randint(0, 2, size=(num_samples, vocabulary_size))\n",
    "tags_data = np.random.randint(0, 2, size=(num_samples, num_tags))\n",
    "\n",
    "priority_data = np.random.random(size=(num_samples, 1))\n",
    "department_data = np.random.randint(0, 2, size=(num_samples, num_departments))\n",
    "\n",
    "model.compile(optimizer=\"rmsprop\",\n",
    "              loss=[\"mean_squared_error\", \"categorical_crossentropy\"],\n",
    "              metrics=[[\"mean_absolute_error\"], [\"accuracy\"]])\n",
    "model.fit([title_data, text_body_data, tags_data],\n",
    "          [priority_data, department_data],\n",
    "          epochs=1)\n",
    "\n",
    "model.evaluate([title_data, text_body_data, tags_data],\n",
    "               [priority_data, department_data])"
   ]
  },
  {
   "cell_type": "code",
   "execution_count": 31,
   "metadata": {},
   "outputs": [
    {
     "name": "stdout",
     "output_type": "stream",
     "text": [
      "40/40 [==============================] - 0s 7ms/step\n"
     ]
    }
   ],
   "source": [
    "priority_preds, department_preds = model.predict(\n",
    "[title_data, text_body_data, tags_data])"
   ]
  },
  {
   "cell_type": "code",
   "execution_count": 32,
   "metadata": {},
   "outputs": [
    {
     "name": "stdout",
     "output_type": "stream",
     "text": [
      "You must install pydot (`pip install pydot`) and install graphviz (see instructions at https://graphviz.gitlab.io/download/) for plot_model/model_to_dot to work.\n"
     ]
    }
   ],
   "source": [
    "keras.utils.plot_model(model, \"ticket_classifier.png\")"
   ]
  },
  {
   "cell_type": "code",
   "execution_count": 33,
   "metadata": {},
   "outputs": [
    {
     "name": "stdout",
     "output_type": "stream",
     "text": [
      "Collecting pydot\n",
      "  Downloading pydot-1.4.2-py2.py3-none-any.whl (21 kB)\n",
      "Requirement already satisfied: pyparsing>=2.1.4 in c:\\users\\japneet\\anaconda3\\lib\\site-packages (from pydot) (3.0.4)\n",
      "Installing collected packages: pydot\n",
      "Successfully installed pydot-1.4.2\n"
     ]
    }
   ],
   "source": [
    "!pip install pydot\n"
   ]
  },
  {
   "cell_type": "code",
   "execution_count": 34,
   "metadata": {},
   "outputs": [
    {
     "name": "stdout",
     "output_type": "stream",
     "text": [
      "Collecting graphviz\n",
      "  Downloading graphviz-0.20-py3-none-any.whl (46 kB)\n",
      "Installing collected packages: graphviz\n",
      "Successfully installed graphviz-0.20\n"
     ]
    }
   ],
   "source": [
    "!pip install graphviz"
   ]
  },
  {
   "cell_type": "code",
   "execution_count": 35,
   "metadata": {},
   "outputs": [
    {
     "name": "stdout",
     "output_type": "stream",
     "text": [
      "You must install pydot (`pip install pydot`) and install graphviz (see instructions at https://graphviz.gitlab.io/download/) for plot_model/model_to_dot to work.\n"
     ]
    }
   ],
   "source": [
    "keras.utils.plot_model(model, \"ticket_classifier.png\", show_shapes=True)"
   ]
  },
  {
   "cell_type": "code",
   "execution_count": 36,
   "metadata": {},
   "outputs": [
    {
     "data": {
      "text/plain": [
       "[<keras.engine.input_layer.InputLayer at 0x2bd69c490d0>,\n",
       " <keras.engine.input_layer.InputLayer at 0x2bd69c49070>,\n",
       " <keras.engine.input_layer.InputLayer at 0x2bd69c49700>,\n",
       " <keras.layers.merging.concatenate.Concatenate at 0x2bd69c37f40>,\n",
       " <keras.layers.core.dense.Dense at 0x2bd69c494c0>,\n",
       " <keras.layers.core.dense.Dense at 0x2bd69c49910>,\n",
       " <keras.layers.core.dense.Dense at 0x2bd69c47a30>]"
      ]
     },
     "execution_count": 36,
     "metadata": {},
     "output_type": "execute_result"
    }
   ],
   "source": [
    "model.layers"
   ]
  },
  {
   "cell_type": "code",
   "execution_count": 37,
   "metadata": {},
   "outputs": [
    {
     "data": {
      "text/plain": [
       "<KerasTensor: shape=(None, 64) dtype=float32 (created by layer 'dense_12')>"
      ]
     },
     "execution_count": 37,
     "metadata": {},
     "output_type": "execute_result"
    }
   ],
   "source": [
    "model.layers[5].input"
   ]
  },
  {
   "cell_type": "code",
   "execution_count": 38,
   "metadata": {},
   "outputs": [],
   "source": [
    "features = model.layers[4].output\n",
    "difficulty = layers.Dense(3, activation=\"softmax\", name=\"difficulty\")(features)\n",
    "\n",
    "new_model = keras.Model(\n",
    "    inputs=[title, text_body, tags],\n",
    "    outputs=[priority, department, difficulty])"
   ]
  },
  {
   "cell_type": "code",
   "execution_count": 39,
   "metadata": {},
   "outputs": [
    {
     "name": "stdout",
     "output_type": "stream",
     "text": [
      "You must install pydot (`pip install pydot`) and install graphviz (see instructions at https://graphviz.gitlab.io/download/) for plot_model/model_to_dot to work.\n"
     ]
    }
   ],
   "source": [
    "keras.utils.plot_model(\n",
    "    new_model, \"updated_ticket_classifier.png\", show_shapes=True)"
   ]
  },
  {
   "cell_type": "code",
   "execution_count": 42,
   "metadata": {},
   "outputs": [],
   "source": [
    "class CustomerTicketModel(keras.Model):\n",
    "    def __init__(self, num_departments):\n",
    "        super().__init__()\n",
    "        self.concat_layer = layers.Concatenate()\n",
    "        self.mixing_layer = layers.Dense(64, activation=\"relu\")\n",
    "        self.priority_scorer = layers.Dense(1, activation=\"sigmoid\")\n",
    "        self.department_classifier = layers.Dense(\n",
    "            num_departments, activation=\"softmax\")\n",
    "        \n",
    "    def call(self, inputs):\n",
    "        title = inputs[\"title\"]\n",
    "        text_body = inputs[\"text_body\"]\n",
    "        tags = inputs[\"tags\"]\n",
    "        \n",
    "        features = self.concat_layer([title, text_body, tags])\n",
    "        features = self.mixing_layer(features)\n",
    "        \n",
    "        priority = self.priority_scorer(features)\n",
    "        department = self.department_classifier(features)\n",
    "        return priority, department\n",
    "    "
   ]
  },
  {
   "cell_type": "code",
   "execution_count": 43,
   "metadata": {},
   "outputs": [],
   "source": [
    "model = CustomerTicketModel(num_departments=4)\n",
    "priority, department = model({\n",
    "    \"title\": title_data, \"text_body\": text_body_data, \"tags\": tags_data\n",
    "})"
   ]
  },
  {
   "cell_type": "code",
   "execution_count": 45,
   "metadata": {},
   "outputs": [],
   "source": [
    "model.compile(\n",
    "    optimizer=\"rmsprop\", \n",
    "    loss=[\"mean_squared_error\", \"categorical_crossentropy\"], \n",
    "    metrics=[\"mean_absolute_error\", \"accuracy\"]\n",
    ")"
   ]
  },
  {
   "cell_type": "code",
   "execution_count": 47,
   "metadata": {},
   "outputs": [
    {
     "name": "stdout",
     "output_type": "stream",
     "text": [
      "40/40 [==============================] - 1s 22ms/step - loss: 36.1963 - output_1_loss: 0.3358 - output_2_loss: 35.8606 - output_1_mean_absolute_error: 0.5017 - output_1_accuracy: 0.0000e+00 - output_2_mean_absolute_error: 0.5055 - output_2_accuracy: 0.1984\n"
     ]
    },
    {
     "data": {
      "text/plain": [
       "<keras.callbacks.History at 0x2bd70631520>"
      ]
     },
     "execution_count": 47,
     "metadata": {},
     "output_type": "execute_result"
    }
   ],
   "source": [
    "model.fit({\n",
    "    \"title\": title_data,\n",
    "    \"text_body\": text_body_data,\n",
    "    \"tags\": tags_data\n",
    "    },\n",
    "    [priority_data, department_data],\n",
    "    epochs=1\n",
    ")\n",
    "\n"
   ]
  },
  {
   "cell_type": "code",
   "execution_count": 48,
   "metadata": {},
   "outputs": [
    {
     "name": "stdout",
     "output_type": "stream",
     "text": [
      "40/40 [==============================] - 1s 8ms/step - loss: 24.4855 - output_1_loss: 0.3358 - output_2_loss: 24.1497 - output_1_mean_absolute_error: 0.5017 - output_1_accuracy: 0.0000e+00 - output_2_mean_absolute_error: 0.5002 - output_2_accuracy: 0.5633\n"
     ]
    },
    {
     "data": {
      "text/plain": [
       "[24.485490798950195,\n",
       " 0.33575597405433655,\n",
       " 24.149730682373047,\n",
       " 0.5016707181930542,\n",
       " 0.0,\n",
       " 0.5002404451370239,\n",
       " 0.563281238079071]"
      ]
     },
     "execution_count": 48,
     "metadata": {},
     "output_type": "execute_result"
    }
   ],
   "source": [
    "model.evaluate({\n",
    "    \"title\": title_data,\n",
    "    \"text_body\": text_body_data,\n",
    "    \"tags\": tags_data\n",
    "    },\n",
    "    [priority_data, department_data]\n",
    ")"
   ]
  },
  {
   "cell_type": "code",
   "execution_count": 49,
   "metadata": {},
   "outputs": [
    {
     "name": "stdout",
     "output_type": "stream",
     "text": [
      "40/40 [==============================] - 0s 7ms/step\n"
     ]
    }
   ],
   "source": [
    "priority_preds, department_preds = model.predict({\n",
    "    \"title\": title_data,\n",
    "    \"text_body\": text_body_data,\n",
    "    \"tags\": tags_data\n",
    "    })"
   ]
  },
  {
   "cell_type": "code",
   "execution_count": 58,
   "metadata": {},
   "outputs": [],
   "source": [
    "from tensorflow.keras.datasets import mnist\n",
    "\n",
    "def get_mnist_model():\n",
    "    inputs = keras.Input(shape=(28*28,))\n",
    "    features = layers.Dense(512, activation=\"relu\")(inputs)\n",
    "    #features = layers.Dropout(0.5)(features)\n",
    "    outputs = layers.Dense(10, activation=\"softmax\")(features)\n",
    "    model = keras.Model(inputs, outputs)\n",
    "    return model\n",
    "\n",
    "(images, labels), (test_images, test_labels) = mnist.load_data()\n",
    "images = images.reshape((60000, 28*28)).astype(\"float32\")/255\n",
    "test_images = test_images.reshape((10000, 28*28)).astype(\"float32\")/255\n",
    "train_images, val_images = images[10000:], images[:10000]\n",
    "train_labels, val_labels = labels[10000:], labels[:10000]"
   ]
  },
  {
   "cell_type": "raw",
   "metadata": {},
   "source": [
    "model = get_mnist_model()\n",
    "model.compile(optimizer=\"rmsprop\",\n",
    "              loss = \"sparse_categorical_entropy\",\n",
    "              metrics = [\"accuracy\"])\n",
    "\n",
    "tensorboard = keras.callbacks.TensorBoard(\n",
    "    log_dir=\"c:\\\\temp\")\n",
    "model.fit(train_images, train_labels,\n",
    "          epochs=10,\n",
    "          validation_data=(val_images, val_labels),\n",
    "          callbacks=[tensorboard])\n"
   ]
  },
  {
   "cell_type": "code",
   "execution_count": null,
   "metadata": {},
   "outputs": [],
   "source": []
  }
 ],
 "metadata": {
  "kernelspec": {
   "display_name": "Python 3 (ipykernel)",
   "language": "python",
   "name": "python3"
  },
  "language_info": {
   "codemirror_mode": {
    "name": "ipython",
    "version": 3
   },
   "file_extension": ".py",
   "mimetype": "text/x-python",
   "name": "python",
   "nbconvert_exporter": "python",
   "pygments_lexer": "ipython3",
   "version": "3.9.12"
  }
 },
 "nbformat": 4,
 "nbformat_minor": 4
}
